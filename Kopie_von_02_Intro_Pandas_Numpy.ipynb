{
  "nbformat": 4,
  "nbformat_minor": 0,
  "metadata": {
    "colab": {
      "provenance": [],
      "include_colab_link": true
    },
    "kernelspec": {
      "name": "python3",
      "display_name": "Python 3"
    }
  },
  "cells": [
    {
      "cell_type": "markdown",
      "metadata": {
        "id": "view-in-github",
        "colab_type": "text"
      },
      "source": [
        "<a href=\"https://colab.research.google.com/github/ginograf/DSF/blob/main/Kopie_von_02_Intro_Pandas_Numpy.ipynb\" target=\"_parent\"><img src=\"https://colab.research.google.com/assets/colab-badge.svg\" alt=\"Open In Colab\"/></a>"
      ]
    },
    {
      "cell_type": "markdown",
      "source": [
        "# 1. Pandas and Numpy"
      ],
      "metadata": {
        "id": "1a_Gy0cT_da8"
      }
    },
    {
      "cell_type": "markdown",
      "metadata": {
        "id": "58HlKuYlwfeY"
      },
      "source": [
        "\n",
        "Python has several built-in types of data structures such as lists and dictionaries, but none of them allows you to efficiently do computations on large lists or tables of data. The Numpy and Pandas libraries fill this gap by providing 1) specific data structures on which one can efficiently compute and 2) functions to perform the computations on these structures.\n",
        "\n",
        "Numpy is the core scientific computing library on which virtually all other scientific Python packages are building (except for deep learning libraries). This includes notably Scipy, a package offering numerical routines for optimization, regression etc. that will be used in the last series of lectures.\n",
        "\n",
        "Pandas, which itself builds on top of Numpy, is the core data science library on which higher level libraries (e.g. for plotting) are building. \n",
        "\n",
        "Here we briefly present the main data structure offered by Pandas, the **DataFrame** and then show how the data in DataFrames are actually **arrays**, the main data structure of Numpy. This allows us in the next notebooks to explore Numpy before coming back at the end of the course to Pandas.\n",
        "\n",
        "Let's first import both Pandas and Numpy. Both have very commonly used abbreviations ```np``` and ```pd``` that you should use as well to simplify your life. Note that most sub-modules are directly accessible and you won't have to import specific ones as migth be the case for other libraries."
      ]
    },
    {
      "cell_type": "code",
      "metadata": {
        "id": "Wj9o0gDqvu3i"
      },
      "source": [
        "import pandas as pd\n",
        "import numpy as np"
      ],
      "execution_count": null,
      "outputs": []
    },
    {
      "cell_type": "markdown",
      "source": [
        "## Importing data"
      ],
      "metadata": {
        "id": "dAJwRYrJ_pQx"
      }
    },
    {
      "cell_type": "markdown",
      "metadata": {
        "id": "daLzb8zpxkGZ"
      },
      "source": [
        "Just like any other library, Pandas offers functionality through the *dot-notation* (as e.g. in ```math.cos()```). When surveying usage of Pandas in places like GitHub, it turns out that the most used function is the one allowing one to import a CSV (comma-separated values). Indeed while we could import tabular data with the ```read``` function, this becomes quickly cumbersome for complex data and Pandas takes care of all details for us. \n"
      ]
    },
    {
      "cell_type": "markdown",
      "metadata": {
        "id": "l7WZpmVl5isP"
      },
      "source": [
        "### read_*** functions\n",
        "\n",
        "As an example we import here the file available [here](https://github.com/KingaS03/Introduction-to-Python/blob/master/Homework/country_vaccinations.xls). If we look at the file we see that even though it has an .xls extension, it is in fact just a CSV file. Pandas has many importing functions and we use here ```read_csv```. You can see the list of all available importers by typing ```pd.read_``` and seeing options from autocomplete.\n",
        "\n",
        "We can either download the file and indicate the file path or directly *read* it from the web (*Note that on GitHub you need to use the [raw](https://raw.githubusercontent.com/KingaS03/Introduction-to-Python/master/Homework/country_vaccinations.xls) version of the file to download it*)"
      ]
    },
    {
      "cell_type": "markdown",
      "source": [
        "```\n",
        "url = 'https://raw.githubusercontent.com/KingaS03/Introduction-to-Python/master/Homework/country_vaccinations.xls'\n",
        "vaccine = pd.read_csv(url)\n",
        "```"
      ],
      "metadata": {
        "id": "xzhJ68RFvwU5"
      }
    },
    {
      "cell_type": "code",
      "source": [],
      "metadata": {
        "id": "ySb3DYwW6ppr"
      },
      "execution_count": null,
      "outputs": []
    },
    {
      "cell_type": "markdown",
      "metadata": {
        "id": "mfolWD-P4BBg"
      },
      "source": [
        "Let's first see what this object is:"
      ]
    },
    {
      "cell_type": "markdown",
      "source": [
        "```\n",
        "type(vaccine)\n",
        "```"
      ],
      "metadata": {
        "id": "Pvrppa_M4aNO"
      }
    },
    {
      "cell_type": "code",
      "source": [],
      "metadata": {
        "id": "YMJY_ZMM7YBp"
      },
      "execution_count": null,
      "outputs": []
    },
    {
      "cell_type": "markdown",
      "metadata": {
        "id": "MgHzkxFd4cn4"
      },
      "source": [
        "We see that we are dealing with a DataFrame, the two-dimensional data structure offered by Pandas. If we just execute a cell with that variable we can display the first lines:"
      ]
    },
    {
      "cell_type": "markdown",
      "source": [
        "```\n",
        "vaccine\n",
        "```"
      ],
      "metadata": {
        "id": "ZE700boZ4bDv"
      }
    },
    {
      "cell_type": "code",
      "source": [],
      "metadata": {
        "id": "wsCCINAU7FAh"
      },
      "execution_count": null,
      "outputs": []
    },
    {
      "cell_type": "markdown",
      "metadata": {
        "id": "cJJ81NGK42fG"
      },
      "source": [
        "We see that we are dealing with tabular data of various types: we have text (e.g. countries), dates and numbers. Just like in a tabular sheet, each column has a label and each line has an index (column in bold on the left), so that every element can be located with these *coordinates*.\n",
        "\n",
        "## Methods attached to dataframes\n",
        "\n",
        "We have seen before that every variable in Python has a series of functions attached to it (methods). For example if we have a text variable (string) we can e.g. split it at a given place:"
      ]
    },
    {
      "cell_type": "markdown",
      "source": [
        "```\n",
        "my_string = 'This is a sentence with spaces.'\n",
        "my_string.split(' ')\n",
        "```"
      ],
      "metadata": {
        "id": "8Agw1WO14wYu"
      }
    },
    {
      "cell_type": "code",
      "source": [
        "\n"
      ],
      "metadata": {
        "id": "2_zTrIod7qOA"
      },
      "execution_count": null,
      "outputs": []
    },
    {
      "cell_type": "markdown",
      "metadata": {
        "id": "CgSGrjzZ6JtO"
      },
      "source": [
        "The same logic applies to Pandas DataFrames and in general to any new variable that is created by a given package: they all come with a series of methods attached to them.\n",
        "\n",
        "For example if we only want to display the fist 5 lines of the DataFrame, we can use the ```head``` method:"
      ]
    },
    {
      "cell_type": "markdown",
      "source": [
        "vaccine.head(5)"
      ],
      "metadata": {
        "id": "8V5lYBN85_TO"
      }
    },
    {
      "cell_type": "code",
      "source": [],
      "metadata": {
        "id": "wE3u7Htm86Y0"
      },
      "execution_count": null,
      "outputs": []
    },
    {
      "cell_type": "markdown",
      "metadata": {
        "id": "BNuROR_d6htS"
      },
      "source": [
        "We will learn later how to extract statistics, but just as an example of functions that exsit, you can for example get a basic statistical description of a DataFrame using the ```describe``` method:"
      ]
    },
    {
      "cell_type": "markdown",
      "source": [
        "vaccine.describe()"
      ],
      "metadata": {
        "id": "1UT83ZNq6Uzy"
      }
    },
    {
      "cell_type": "code",
      "source": [],
      "metadata": {
        "id": "7YyRNIC68_H6"
      },
      "execution_count": null,
      "outputs": []
    },
    {
      "cell_type": "markdown",
      "metadata": {
        "id": "6gQcF8NQ6uZe"
      },
      "source": [
        "We see that in this particular case, the returned object is a DataFrame as well!\n",
        "\n",
        "## Accessing columns\n",
        "\n",
        "If we want to work with only a given column from a dataframe, we can extract it. Just like when we want to extract an element from a regular list, e.g. ```my_list[3]```, for Pandas we also use the square parenthesis (brackets) but this time with the name of the column:"
      ]
    },
    {
      "cell_type": "markdown",
      "source": [
        "```\n",
        "some_column = vaccine['daily_vaccinations']\n",
        "some_column\n",
        "```"
      ],
      "metadata": {
        "id": "GBOj3B5r6giA"
      }
    },
    {
      "cell_type": "code",
      "source": [],
      "metadata": {
        "id": "RlEiBDuS9EGT"
      },
      "execution_count": null,
      "outputs": []
    },
    {
      "cell_type": "markdown",
      "metadata": {
        "id": "I2QOrlxG_hwq"
      },
      "source": [
        "As we have a single columns here, we are not dealing with a DataFrame anymore but with a Series:"
      ]
    },
    {
      "cell_type": "markdown",
      "source": [
        "type(some_column)"
      ],
      "metadata": {
        "id": "lEKnBjNS-x8l"
      }
    },
    {
      "cell_type": "code",
      "source": [],
      "metadata": {
        "id": "onr5TS6P9OHZ"
      },
      "execution_count": null,
      "outputs": []
    },
    {
      "cell_type": "markdown",
      "metadata": {
        "id": "qy1TSUsq_vjj"
      },
      "source": [
        "We won't explore much the Series object on its own in this course, but know that you can for example create a DataFrame from scratch by combining multiple Series.\n",
        "\n",
        "## What is underlying Pandas\n",
        "\n",
        "We see above that ```some_column``` is composed of and index (0, 1, 2 etc) and the corresponding values (NaN, 64.0, 64.0 etc.). If we want to do mathematics with those values, we don't really need the index and a list of numbers would be sufficient. We can obtain such a list by asking for the ```values``` of the series:"
      ]
    },
    {
      "cell_type": "markdown",
      "source": [
        "```actual_values = some_column.values\n",
        "actual_values\n",
        "```"
      ],
      "metadata": {
        "id": "kbW0VZx1_pap"
      }
    },
    {
      "cell_type": "code",
      "source": [],
      "metadata": {
        "id": "2U7rOHOV9Tyy"
      },
      "execution_count": null,
      "outputs": []
    },
    {
      "cell_type": "markdown",
      "metadata": {
        "id": "HBOCZwuCAwR0"
      },
      "source": [
        "We see that the output is not just a simple Python list. It is in fact called an ```array```. If we ask for the type of this object, we get:"
      ]
    },
    {
      "cell_type": "markdown",
      "source": [
        "type(actual_values)"
      ],
      "metadata": {
        "id": "RDGVdnsuArRh"
      }
    },
    {
      "cell_type": "code",
      "source": [],
      "metadata": {
        "id": "IBDGquJE9bBq"
      },
      "execution_count": null,
      "outputs": []
    },
    {
      "cell_type": "markdown",
      "metadata": {
        "id": "i8P0PD2ZA-Nt"
      },
      "source": [
        "The lists of values contained in Pandas DataFrame are in fact Numpy arrays. A \n",
        "large part of the computing logic in Pandas is inspired from Numpy, therefore we now make a detour to Numpy before coming back to DataFrames."
      ]
    },
    {
      "cell_type": "markdown",
      "source": [
        "# Exercise"
      ],
      "metadata": {
        "id": "W0EVprp7euN1"
      }
    },
    {
      "cell_type": "markdown",
      "metadata": {
        "id": "5Iosdk-tYtsd"
      },
      "source": [
        "\n",
        "1. In the Data folder on Ilias there is the data file CCD-Data.txt. Upload this file to a folder on your google drive. If you don't have a google account, make it now. Look at the file by clicking on it. Try to make sense of the data with the help of the metadata file also in the Ilias folder. \n",
        "\n",
        "2. Mount the file to this your notebook (example code below). The path and the file name must match the ones on your google drive, of course.\n"
      ]
    },
    {
      "cell_type": "code",
      "source": [
        "#from google.colab import drive\n",
        "#drive.mount('/content/drive')\n",
        "#path = '/content/drive/MyDrive/Courses/DSF-DC....' # To be adapted"
      ],
      "metadata": {
        "id": "DYR4iYYhI0gH"
      },
      "execution_count": null,
      "outputs": []
    },
    {
      "cell_type": "code",
      "source": [
        "from google.colab import drive\n",
        "drive.mount('/content/drive')\n",
        "path = '/content/drive/MyDrive/CCD-Data.txt'"
      ],
      "metadata": {
        "colab": {
          "base_uri": "https://localhost:8080/"
        },
        "id": "21kBcd890cEB",
        "outputId": "115a6457-b997-456a-95f6-8a2f66702940"
      },
      "execution_count": null,
      "outputs": [
        {
          "output_type": "stream",
          "name": "stdout",
          "text": [
            "Mounted at /content/drive\n"
          ]
        }
      ]
    },
    {
      "cell_type": "markdown",
      "source": [
        "3. Try to understand based on the API description (https://pandas.pydata.org/docs/reference/api/pandas.read_csv.html) and find out how to read the data into a DataFrame without the header information. Hint: Use the header argument."
      ],
      "metadata": {
        "id": "bHMdX664RcQ9"
      }
    },
    {
      "cell_type": "code",
      "metadata": {
        "id": "jc8tXuIDYuX2",
        "colab": {
          "base_uri": "https://localhost:8080/",
          "height": 386
        },
        "outputId": "fef41462-bfa7-4eb6-eb72-217446de0bcb"
      },
      "source": [
        "import pandas as pd\n",
        "df = pd.read_csv(path, delimiter='\\t', header = 13)\n",
        "df.head()"
      ],
      "execution_count": null,
      "outputs": [
        {
          "output_type": "execute_result",
          "data": {
            "text/plain": [
              "                   Unnamed: 0     Unnamed: 1  316.6137  316.7492  316.8847  \\\n",
              "0  2018-10-25 10:32:04.789000  1540456324789  0.329672  0.329672  0.329672   \n",
              "1  2018-10-25 10:32:04.878000  1540456324878 -0.044412 -0.044412 -0.044412   \n",
              "2  2018-10-25 10:32:04.962000  1540456324962  0.338219  0.338219  0.338219   \n",
              "3  2018-10-25 10:32:05.046000  1540456325046 -0.049682 -0.049682 -0.049682   \n",
              "4  2018-10-25 10:32:05.129000  1540456325129  0.335086  0.335086  0.335086   \n",
              "\n",
              "   317.0203  317.1558  317.2913  317.4268  317.5623  ...  778.9703   779.089  \\\n",
              "0  0.090294 -0.716926 -1.829304 -0.686330 -0.428776  ... -0.038483 -0.039623   \n",
              "1  0.157632 -0.672423 -2.183981 -0.492421 -0.000000  ... -0.039428 -0.038486   \n",
              "2  0.330993 -0.879836 -0.000000 -0.559845 -0.000000  ... -0.037725 -0.037534   \n",
              "3  0.519086 -0.681150 -0.000000 -0.417230 -0.000000  ... -0.037613 -0.037168   \n",
              "4 -0.041393 -0.000000 -1.802774 -0.510417 -0.000000  ... -0.040919 -0.038288   \n",
              "\n",
              "   779.2076  779.3263  779.4449  779.5636  779.6822  779.8008  779.9194  \\\n",
              "0 -0.036920 -0.037309 -0.037299 -0.037476 -0.036856 -0.036853 -0.039100   \n",
              "1 -0.037309 -0.036357 -0.037289 -0.038728 -0.037214 -0.036902 -0.040210   \n",
              "2 -0.036560 -0.036152 -0.036554 -0.036875 -0.037351 -0.036746 -0.038686   \n",
              "3 -0.036369 -0.034549 -0.036252 -0.037948 -0.036713 -0.035706 -0.038203   \n",
              "4 -0.035840 -0.035638 -0.039504 -0.040093 -0.039953 -0.037656 -0.038082   \n",
              "\n",
              "   780.0381  \n",
              "0 -0.035545  \n",
              "1 -0.038165  \n",
              "2 -0.036903  \n",
              "3 -0.036822  \n",
              "4 -0.035900  \n",
              "\n",
              "[5 rows x 3650 columns]"
            ],
            "text/html": [
              "\n",
              "  <div id=\"df-8a1f5b6a-a470-446d-86bf-d343c488f159\">\n",
              "    <div class=\"colab-df-container\">\n",
              "      <div>\n",
              "<style scoped>\n",
              "    .dataframe tbody tr th:only-of-type {\n",
              "        vertical-align: middle;\n",
              "    }\n",
              "\n",
              "    .dataframe tbody tr th {\n",
              "        vertical-align: top;\n",
              "    }\n",
              "\n",
              "    .dataframe thead th {\n",
              "        text-align: right;\n",
              "    }\n",
              "</style>\n",
              "<table border=\"1\" class=\"dataframe\">\n",
              "  <thead>\n",
              "    <tr style=\"text-align: right;\">\n",
              "      <th></th>\n",
              "      <th>Unnamed: 0</th>\n",
              "      <th>Unnamed: 1</th>\n",
              "      <th>316.6137</th>\n",
              "      <th>316.7492</th>\n",
              "      <th>316.8847</th>\n",
              "      <th>317.0203</th>\n",
              "      <th>317.1558</th>\n",
              "      <th>317.2913</th>\n",
              "      <th>317.4268</th>\n",
              "      <th>317.5623</th>\n",
              "      <th>...</th>\n",
              "      <th>778.9703</th>\n",
              "      <th>779.089</th>\n",
              "      <th>779.2076</th>\n",
              "      <th>779.3263</th>\n",
              "      <th>779.4449</th>\n",
              "      <th>779.5636</th>\n",
              "      <th>779.6822</th>\n",
              "      <th>779.8008</th>\n",
              "      <th>779.9194</th>\n",
              "      <th>780.0381</th>\n",
              "    </tr>\n",
              "  </thead>\n",
              "  <tbody>\n",
              "    <tr>\n",
              "      <th>0</th>\n",
              "      <td>2018-10-25 10:32:04.789000</td>\n",
              "      <td>1540456324789</td>\n",
              "      <td>0.329672</td>\n",
              "      <td>0.329672</td>\n",
              "      <td>0.329672</td>\n",
              "      <td>0.090294</td>\n",
              "      <td>-0.716926</td>\n",
              "      <td>-1.829304</td>\n",
              "      <td>-0.686330</td>\n",
              "      <td>-0.428776</td>\n",
              "      <td>...</td>\n",
              "      <td>-0.038483</td>\n",
              "      <td>-0.039623</td>\n",
              "      <td>-0.036920</td>\n",
              "      <td>-0.037309</td>\n",
              "      <td>-0.037299</td>\n",
              "      <td>-0.037476</td>\n",
              "      <td>-0.036856</td>\n",
              "      <td>-0.036853</td>\n",
              "      <td>-0.039100</td>\n",
              "      <td>-0.035545</td>\n",
              "    </tr>\n",
              "    <tr>\n",
              "      <th>1</th>\n",
              "      <td>2018-10-25 10:32:04.878000</td>\n",
              "      <td>1540456324878</td>\n",
              "      <td>-0.044412</td>\n",
              "      <td>-0.044412</td>\n",
              "      <td>-0.044412</td>\n",
              "      <td>0.157632</td>\n",
              "      <td>-0.672423</td>\n",
              "      <td>-2.183981</td>\n",
              "      <td>-0.492421</td>\n",
              "      <td>-0.000000</td>\n",
              "      <td>...</td>\n",
              "      <td>-0.039428</td>\n",
              "      <td>-0.038486</td>\n",
              "      <td>-0.037309</td>\n",
              "      <td>-0.036357</td>\n",
              "      <td>-0.037289</td>\n",
              "      <td>-0.038728</td>\n",
              "      <td>-0.037214</td>\n",
              "      <td>-0.036902</td>\n",
              "      <td>-0.040210</td>\n",
              "      <td>-0.038165</td>\n",
              "    </tr>\n",
              "    <tr>\n",
              "      <th>2</th>\n",
              "      <td>2018-10-25 10:32:04.962000</td>\n",
              "      <td>1540456324962</td>\n",
              "      <td>0.338219</td>\n",
              "      <td>0.338219</td>\n",
              "      <td>0.338219</td>\n",
              "      <td>0.330993</td>\n",
              "      <td>-0.879836</td>\n",
              "      <td>-0.000000</td>\n",
              "      <td>-0.559845</td>\n",
              "      <td>-0.000000</td>\n",
              "      <td>...</td>\n",
              "      <td>-0.037725</td>\n",
              "      <td>-0.037534</td>\n",
              "      <td>-0.036560</td>\n",
              "      <td>-0.036152</td>\n",
              "      <td>-0.036554</td>\n",
              "      <td>-0.036875</td>\n",
              "      <td>-0.037351</td>\n",
              "      <td>-0.036746</td>\n",
              "      <td>-0.038686</td>\n",
              "      <td>-0.036903</td>\n",
              "    </tr>\n",
              "    <tr>\n",
              "      <th>3</th>\n",
              "      <td>2018-10-25 10:32:05.046000</td>\n",
              "      <td>1540456325046</td>\n",
              "      <td>-0.049682</td>\n",
              "      <td>-0.049682</td>\n",
              "      <td>-0.049682</td>\n",
              "      <td>0.519086</td>\n",
              "      <td>-0.681150</td>\n",
              "      <td>-0.000000</td>\n",
              "      <td>-0.417230</td>\n",
              "      <td>-0.000000</td>\n",
              "      <td>...</td>\n",
              "      <td>-0.037613</td>\n",
              "      <td>-0.037168</td>\n",
              "      <td>-0.036369</td>\n",
              "      <td>-0.034549</td>\n",
              "      <td>-0.036252</td>\n",
              "      <td>-0.037948</td>\n",
              "      <td>-0.036713</td>\n",
              "      <td>-0.035706</td>\n",
              "      <td>-0.038203</td>\n",
              "      <td>-0.036822</td>\n",
              "    </tr>\n",
              "    <tr>\n",
              "      <th>4</th>\n",
              "      <td>2018-10-25 10:32:05.129000</td>\n",
              "      <td>1540456325129</td>\n",
              "      <td>0.335086</td>\n",
              "      <td>0.335086</td>\n",
              "      <td>0.335086</td>\n",
              "      <td>-0.041393</td>\n",
              "      <td>-0.000000</td>\n",
              "      <td>-1.802774</td>\n",
              "      <td>-0.510417</td>\n",
              "      <td>-0.000000</td>\n",
              "      <td>...</td>\n",
              "      <td>-0.040919</td>\n",
              "      <td>-0.038288</td>\n",
              "      <td>-0.035840</td>\n",
              "      <td>-0.035638</td>\n",
              "      <td>-0.039504</td>\n",
              "      <td>-0.040093</td>\n",
              "      <td>-0.039953</td>\n",
              "      <td>-0.037656</td>\n",
              "      <td>-0.038082</td>\n",
              "      <td>-0.035900</td>\n",
              "    </tr>\n",
              "  </tbody>\n",
              "</table>\n",
              "<p>5 rows × 3650 columns</p>\n",
              "</div>\n",
              "      <button class=\"colab-df-convert\" onclick=\"convertToInteractive('df-8a1f5b6a-a470-446d-86bf-d343c488f159')\"\n",
              "              title=\"Convert this dataframe to an interactive table.\"\n",
              "              style=\"display:none;\">\n",
              "        \n",
              "  <svg xmlns=\"http://www.w3.org/2000/svg\" height=\"24px\"viewBox=\"0 0 24 24\"\n",
              "       width=\"24px\">\n",
              "    <path d=\"M0 0h24v24H0V0z\" fill=\"none\"/>\n",
              "    <path d=\"M18.56 5.44l.94 2.06.94-2.06 2.06-.94-2.06-.94-.94-2.06-.94 2.06-2.06.94zm-11 1L8.5 8.5l.94-2.06 2.06-.94-2.06-.94L8.5 2.5l-.94 2.06-2.06.94zm10 10l.94 2.06.94-2.06 2.06-.94-2.06-.94-.94-2.06-.94 2.06-2.06.94z\"/><path d=\"M17.41 7.96l-1.37-1.37c-.4-.4-.92-.59-1.43-.59-.52 0-1.04.2-1.43.59L10.3 9.45l-7.72 7.72c-.78.78-.78 2.05 0 2.83L4 21.41c.39.39.9.59 1.41.59.51 0 1.02-.2 1.41-.59l7.78-7.78 2.81-2.81c.8-.78.8-2.07 0-2.86zM5.41 20L4 18.59l7.72-7.72 1.47 1.35L5.41 20z\"/>\n",
              "  </svg>\n",
              "      </button>\n",
              "      \n",
              "  <style>\n",
              "    .colab-df-container {\n",
              "      display:flex;\n",
              "      flex-wrap:wrap;\n",
              "      gap: 12px;\n",
              "    }\n",
              "\n",
              "    .colab-df-convert {\n",
              "      background-color: #E8F0FE;\n",
              "      border: none;\n",
              "      border-radius: 50%;\n",
              "      cursor: pointer;\n",
              "      display: none;\n",
              "      fill: #1967D2;\n",
              "      height: 32px;\n",
              "      padding: 0 0 0 0;\n",
              "      width: 32px;\n",
              "    }\n",
              "\n",
              "    .colab-df-convert:hover {\n",
              "      background-color: #E2EBFA;\n",
              "      box-shadow: 0px 1px 2px rgba(60, 64, 67, 0.3), 0px 1px 3px 1px rgba(60, 64, 67, 0.15);\n",
              "      fill: #174EA6;\n",
              "    }\n",
              "\n",
              "    [theme=dark] .colab-df-convert {\n",
              "      background-color: #3B4455;\n",
              "      fill: #D2E3FC;\n",
              "    }\n",
              "\n",
              "    [theme=dark] .colab-df-convert:hover {\n",
              "      background-color: #434B5C;\n",
              "      box-shadow: 0px 1px 3px 1px rgba(0, 0, 0, 0.15);\n",
              "      filter: drop-shadow(0px 1px 2px rgba(0, 0, 0, 0.3));\n",
              "      fill: #FFFFFF;\n",
              "    }\n",
              "  </style>\n",
              "\n",
              "      <script>\n",
              "        const buttonEl =\n",
              "          document.querySelector('#df-8a1f5b6a-a470-446d-86bf-d343c488f159 button.colab-df-convert');\n",
              "        buttonEl.style.display =\n",
              "          google.colab.kernel.accessAllowed ? 'block' : 'none';\n",
              "\n",
              "        async function convertToInteractive(key) {\n",
              "          const element = document.querySelector('#df-8a1f5b6a-a470-446d-86bf-d343c488f159');\n",
              "          const dataTable =\n",
              "            await google.colab.kernel.invokeFunction('convertToInteractive',\n",
              "                                                     [key], {});\n",
              "          if (!dataTable) return;\n",
              "\n",
              "          const docLinkHtml = 'Like what you see? Visit the ' +\n",
              "            '<a target=\"_blank\" href=https://colab.research.google.com/notebooks/data_table.ipynb>data table notebook</a>'\n",
              "            + ' to learn more about interactive tables.';\n",
              "          element.innerHTML = '';\n",
              "          dataTable['output_type'] = 'display_data';\n",
              "          await google.colab.output.renderOutput(dataTable, element);\n",
              "          const docLink = document.createElement('div');\n",
              "          docLink.innerHTML = docLinkHtml;\n",
              "          element.appendChild(docLink);\n",
              "        }\n",
              "      </script>\n",
              "    </div>\n",
              "  </div>\n",
              "  "
            ]
          },
          "metadata": {},
          "execution_count": 5
        }
      ]
    },
    {
      "cell_type": "markdown",
      "source": [
        "4. Study this dataset a bit with df.info() and df.describe() methods. How big is the dataset: How many rows, how many columns, how much space in the memory? "
      ],
      "metadata": {
        "id": "V-hJAIi5R69m"
      }
    },
    {
      "cell_type": "code",
      "source": [
        "df.info()\n",
        "df.describe()"
      ],
      "metadata": {
        "id": "mJ1eSjLTAB7n",
        "colab": {
          "base_uri": "https://localhost:8080/",
          "height": 480
        },
        "outputId": "35d07527-98c1-4e9d-c3be-4d39f227e220"
      },
      "execution_count": null,
      "outputs": [
        {
          "output_type": "stream",
          "name": "stdout",
          "text": [
            "<class 'pandas.core.frame.DataFrame'>\n",
            "RangeIndex: 355 entries, 0 to 354\n",
            "Columns: 3650 entries, Unnamed: 0 to 780.0381\n",
            "dtypes: float64(3648), int64(1), object(1)\n",
            "memory usage: 9.9+ MB\n"
          ]
        },
        {
          "output_type": "execute_result",
          "data": {
            "text/plain": [
              "         Unnamed: 1    316.6137    316.7492    316.8847    317.0203  \\\n",
              "count  3.550000e+02  355.000000  355.000000  355.000000  355.000000   \n",
              "mean   1.540456e+12    0.409207    0.409207    0.409207    0.120755   \n",
              "std    8.676718e+03    0.327439    0.327439    0.327439    0.225739   \n",
              "min    1.540456e+12   -0.243277   -0.243277   -0.243277   -0.504316   \n",
              "25%    1.540456e+12    0.103420    0.103420    0.103420   -0.016814   \n",
              "50%    1.540456e+12    0.330891    0.330891    0.330891    0.076447   \n",
              "75%    1.540456e+12    0.844202    0.844202    0.844202    0.212742   \n",
              "max    1.540456e+12    0.871232    0.871232    0.871232    2.056905   \n",
              "\n",
              "         317.1558    317.2913    317.4268    317.5623    317.6977  ...  \\\n",
              "count  355.000000  355.000000  355.000000  355.000000  355.000000  ...   \n",
              "mean    -0.332947   -1.138412   -0.273126    0.036164   -0.026767  ...   \n",
              "std      0.368498    0.926140    0.318666    0.331674    0.756225  ...   \n",
              "min     -0.879836   -2.446382   -0.772345   -0.629352   -0.809866  ...   \n",
              "25%     -0.600144   -1.975407   -0.483988   -0.005090   -0.200815  ...   \n",
              "50%     -0.424603   -1.462398   -0.339107    0.000000    0.000000  ...   \n",
              "75%     -0.124390   -0.000000   -0.114209    0.016706   -0.000000  ...   \n",
              "max      1.344611    0.301030    1.797614    2.025306   12.746800  ...   \n",
              "\n",
              "         778.9703     779.089    779.2076    779.3263    779.4449    779.5636  \\\n",
              "count  355.000000  355.000000  355.000000  355.000000  355.000000  355.000000   \n",
              "mean    -0.037705   -0.037621   -0.036954   -0.035224   -0.037010   -0.036702   \n",
              "std      0.001611    0.001573    0.001648    0.001574    0.001522    0.001571   \n",
              "min     -0.041032   -0.040494   -0.039786   -0.039203   -0.040537   -0.040524   \n",
              "25%     -0.038473   -0.038412   -0.037876   -0.036055   -0.037728   -0.037505   \n",
              "50%     -0.037737   -0.037731   -0.036998   -0.035267   -0.037119   -0.036722   \n",
              "75%     -0.037022   -0.036934   -0.036270   -0.034529   -0.036315   -0.035969   \n",
              "max     -0.016370   -0.016801   -0.014841   -0.014077   -0.017539   -0.015907   \n",
              "\n",
              "         779.6822    779.8008    779.9194    780.0381  \n",
              "count  355.000000  355.000000  355.000000  355.000000  \n",
              "mean    -0.037107   -0.036634   -0.037724   -0.035371  \n",
              "std      0.001649    0.001624    0.001545    0.001536  \n",
              "min     -0.040304   -0.039905   -0.040929   -0.038231  \n",
              "25%     -0.037930   -0.037541   -0.038611   -0.036165  \n",
              "50%     -0.037191   -0.036708   -0.037786   -0.035425  \n",
              "75%     -0.036296   -0.035855   -0.036984   -0.034661  \n",
              "max     -0.016059   -0.015445   -0.016981   -0.014757  \n",
              "\n",
              "[8 rows x 3649 columns]"
            ],
            "text/html": [
              "\n",
              "  <div id=\"df-18dc81ea-4283-453a-9d42-cc5760ef484a\">\n",
              "    <div class=\"colab-df-container\">\n",
              "      <div>\n",
              "<style scoped>\n",
              "    .dataframe tbody tr th:only-of-type {\n",
              "        vertical-align: middle;\n",
              "    }\n",
              "\n",
              "    .dataframe tbody tr th {\n",
              "        vertical-align: top;\n",
              "    }\n",
              "\n",
              "    .dataframe thead th {\n",
              "        text-align: right;\n",
              "    }\n",
              "</style>\n",
              "<table border=\"1\" class=\"dataframe\">\n",
              "  <thead>\n",
              "    <tr style=\"text-align: right;\">\n",
              "      <th></th>\n",
              "      <th>Unnamed: 1</th>\n",
              "      <th>316.6137</th>\n",
              "      <th>316.7492</th>\n",
              "      <th>316.8847</th>\n",
              "      <th>317.0203</th>\n",
              "      <th>317.1558</th>\n",
              "      <th>317.2913</th>\n",
              "      <th>317.4268</th>\n",
              "      <th>317.5623</th>\n",
              "      <th>317.6977</th>\n",
              "      <th>...</th>\n",
              "      <th>778.9703</th>\n",
              "      <th>779.089</th>\n",
              "      <th>779.2076</th>\n",
              "      <th>779.3263</th>\n",
              "      <th>779.4449</th>\n",
              "      <th>779.5636</th>\n",
              "      <th>779.6822</th>\n",
              "      <th>779.8008</th>\n",
              "      <th>779.9194</th>\n",
              "      <th>780.0381</th>\n",
              "    </tr>\n",
              "  </thead>\n",
              "  <tbody>\n",
              "    <tr>\n",
              "      <th>count</th>\n",
              "      <td>3.550000e+02</td>\n",
              "      <td>355.000000</td>\n",
              "      <td>355.000000</td>\n",
              "      <td>355.000000</td>\n",
              "      <td>355.000000</td>\n",
              "      <td>355.000000</td>\n",
              "      <td>355.000000</td>\n",
              "      <td>355.000000</td>\n",
              "      <td>355.000000</td>\n",
              "      <td>355.000000</td>\n",
              "      <td>...</td>\n",
              "      <td>355.000000</td>\n",
              "      <td>355.000000</td>\n",
              "      <td>355.000000</td>\n",
              "      <td>355.000000</td>\n",
              "      <td>355.000000</td>\n",
              "      <td>355.000000</td>\n",
              "      <td>355.000000</td>\n",
              "      <td>355.000000</td>\n",
              "      <td>355.000000</td>\n",
              "      <td>355.000000</td>\n",
              "    </tr>\n",
              "    <tr>\n",
              "      <th>mean</th>\n",
              "      <td>1.540456e+12</td>\n",
              "      <td>0.409207</td>\n",
              "      <td>0.409207</td>\n",
              "      <td>0.409207</td>\n",
              "      <td>0.120755</td>\n",
              "      <td>-0.332947</td>\n",
              "      <td>-1.138412</td>\n",
              "      <td>-0.273126</td>\n",
              "      <td>0.036164</td>\n",
              "      <td>-0.026767</td>\n",
              "      <td>...</td>\n",
              "      <td>-0.037705</td>\n",
              "      <td>-0.037621</td>\n",
              "      <td>-0.036954</td>\n",
              "      <td>-0.035224</td>\n",
              "      <td>-0.037010</td>\n",
              "      <td>-0.036702</td>\n",
              "      <td>-0.037107</td>\n",
              "      <td>-0.036634</td>\n",
              "      <td>-0.037724</td>\n",
              "      <td>-0.035371</td>\n",
              "    </tr>\n",
              "    <tr>\n",
              "      <th>std</th>\n",
              "      <td>8.676718e+03</td>\n",
              "      <td>0.327439</td>\n",
              "      <td>0.327439</td>\n",
              "      <td>0.327439</td>\n",
              "      <td>0.225739</td>\n",
              "      <td>0.368498</td>\n",
              "      <td>0.926140</td>\n",
              "      <td>0.318666</td>\n",
              "      <td>0.331674</td>\n",
              "      <td>0.756225</td>\n",
              "      <td>...</td>\n",
              "      <td>0.001611</td>\n",
              "      <td>0.001573</td>\n",
              "      <td>0.001648</td>\n",
              "      <td>0.001574</td>\n",
              "      <td>0.001522</td>\n",
              "      <td>0.001571</td>\n",
              "      <td>0.001649</td>\n",
              "      <td>0.001624</td>\n",
              "      <td>0.001545</td>\n",
              "      <td>0.001536</td>\n",
              "    </tr>\n",
              "    <tr>\n",
              "      <th>min</th>\n",
              "      <td>1.540456e+12</td>\n",
              "      <td>-0.243277</td>\n",
              "      <td>-0.243277</td>\n",
              "      <td>-0.243277</td>\n",
              "      <td>-0.504316</td>\n",
              "      <td>-0.879836</td>\n",
              "      <td>-2.446382</td>\n",
              "      <td>-0.772345</td>\n",
              "      <td>-0.629352</td>\n",
              "      <td>-0.809866</td>\n",
              "      <td>...</td>\n",
              "      <td>-0.041032</td>\n",
              "      <td>-0.040494</td>\n",
              "      <td>-0.039786</td>\n",
              "      <td>-0.039203</td>\n",
              "      <td>-0.040537</td>\n",
              "      <td>-0.040524</td>\n",
              "      <td>-0.040304</td>\n",
              "      <td>-0.039905</td>\n",
              "      <td>-0.040929</td>\n",
              "      <td>-0.038231</td>\n",
              "    </tr>\n",
              "    <tr>\n",
              "      <th>25%</th>\n",
              "      <td>1.540456e+12</td>\n",
              "      <td>0.103420</td>\n",
              "      <td>0.103420</td>\n",
              "      <td>0.103420</td>\n",
              "      <td>-0.016814</td>\n",
              "      <td>-0.600144</td>\n",
              "      <td>-1.975407</td>\n",
              "      <td>-0.483988</td>\n",
              "      <td>-0.005090</td>\n",
              "      <td>-0.200815</td>\n",
              "      <td>...</td>\n",
              "      <td>-0.038473</td>\n",
              "      <td>-0.038412</td>\n",
              "      <td>-0.037876</td>\n",
              "      <td>-0.036055</td>\n",
              "      <td>-0.037728</td>\n",
              "      <td>-0.037505</td>\n",
              "      <td>-0.037930</td>\n",
              "      <td>-0.037541</td>\n",
              "      <td>-0.038611</td>\n",
              "      <td>-0.036165</td>\n",
              "    </tr>\n",
              "    <tr>\n",
              "      <th>50%</th>\n",
              "      <td>1.540456e+12</td>\n",
              "      <td>0.330891</td>\n",
              "      <td>0.330891</td>\n",
              "      <td>0.330891</td>\n",
              "      <td>0.076447</td>\n",
              "      <td>-0.424603</td>\n",
              "      <td>-1.462398</td>\n",
              "      <td>-0.339107</td>\n",
              "      <td>0.000000</td>\n",
              "      <td>0.000000</td>\n",
              "      <td>...</td>\n",
              "      <td>-0.037737</td>\n",
              "      <td>-0.037731</td>\n",
              "      <td>-0.036998</td>\n",
              "      <td>-0.035267</td>\n",
              "      <td>-0.037119</td>\n",
              "      <td>-0.036722</td>\n",
              "      <td>-0.037191</td>\n",
              "      <td>-0.036708</td>\n",
              "      <td>-0.037786</td>\n",
              "      <td>-0.035425</td>\n",
              "    </tr>\n",
              "    <tr>\n",
              "      <th>75%</th>\n",
              "      <td>1.540456e+12</td>\n",
              "      <td>0.844202</td>\n",
              "      <td>0.844202</td>\n",
              "      <td>0.844202</td>\n",
              "      <td>0.212742</td>\n",
              "      <td>-0.124390</td>\n",
              "      <td>-0.000000</td>\n",
              "      <td>-0.114209</td>\n",
              "      <td>0.016706</td>\n",
              "      <td>-0.000000</td>\n",
              "      <td>...</td>\n",
              "      <td>-0.037022</td>\n",
              "      <td>-0.036934</td>\n",
              "      <td>-0.036270</td>\n",
              "      <td>-0.034529</td>\n",
              "      <td>-0.036315</td>\n",
              "      <td>-0.035969</td>\n",
              "      <td>-0.036296</td>\n",
              "      <td>-0.035855</td>\n",
              "      <td>-0.036984</td>\n",
              "      <td>-0.034661</td>\n",
              "    </tr>\n",
              "    <tr>\n",
              "      <th>max</th>\n",
              "      <td>1.540456e+12</td>\n",
              "      <td>0.871232</td>\n",
              "      <td>0.871232</td>\n",
              "      <td>0.871232</td>\n",
              "      <td>2.056905</td>\n",
              "      <td>1.344611</td>\n",
              "      <td>0.301030</td>\n",
              "      <td>1.797614</td>\n",
              "      <td>2.025306</td>\n",
              "      <td>12.746800</td>\n",
              "      <td>...</td>\n",
              "      <td>-0.016370</td>\n",
              "      <td>-0.016801</td>\n",
              "      <td>-0.014841</td>\n",
              "      <td>-0.014077</td>\n",
              "      <td>-0.017539</td>\n",
              "      <td>-0.015907</td>\n",
              "      <td>-0.016059</td>\n",
              "      <td>-0.015445</td>\n",
              "      <td>-0.016981</td>\n",
              "      <td>-0.014757</td>\n",
              "    </tr>\n",
              "  </tbody>\n",
              "</table>\n",
              "<p>8 rows × 3649 columns</p>\n",
              "</div>\n",
              "      <button class=\"colab-df-convert\" onclick=\"convertToInteractive('df-18dc81ea-4283-453a-9d42-cc5760ef484a')\"\n",
              "              title=\"Convert this dataframe to an interactive table.\"\n",
              "              style=\"display:none;\">\n",
              "        \n",
              "  <svg xmlns=\"http://www.w3.org/2000/svg\" height=\"24px\"viewBox=\"0 0 24 24\"\n",
              "       width=\"24px\">\n",
              "    <path d=\"M0 0h24v24H0V0z\" fill=\"none\"/>\n",
              "    <path d=\"M18.56 5.44l.94 2.06.94-2.06 2.06-.94-2.06-.94-.94-2.06-.94 2.06-2.06.94zm-11 1L8.5 8.5l.94-2.06 2.06-.94-2.06-.94L8.5 2.5l-.94 2.06-2.06.94zm10 10l.94 2.06.94-2.06 2.06-.94-2.06-.94-.94-2.06-.94 2.06-2.06.94z\"/><path d=\"M17.41 7.96l-1.37-1.37c-.4-.4-.92-.59-1.43-.59-.52 0-1.04.2-1.43.59L10.3 9.45l-7.72 7.72c-.78.78-.78 2.05 0 2.83L4 21.41c.39.39.9.59 1.41.59.51 0 1.02-.2 1.41-.59l7.78-7.78 2.81-2.81c.8-.78.8-2.07 0-2.86zM5.41 20L4 18.59l7.72-7.72 1.47 1.35L5.41 20z\"/>\n",
              "  </svg>\n",
              "      </button>\n",
              "      \n",
              "  <style>\n",
              "    .colab-df-container {\n",
              "      display:flex;\n",
              "      flex-wrap:wrap;\n",
              "      gap: 12px;\n",
              "    }\n",
              "\n",
              "    .colab-df-convert {\n",
              "      background-color: #E8F0FE;\n",
              "      border: none;\n",
              "      border-radius: 50%;\n",
              "      cursor: pointer;\n",
              "      display: none;\n",
              "      fill: #1967D2;\n",
              "      height: 32px;\n",
              "      padding: 0 0 0 0;\n",
              "      width: 32px;\n",
              "    }\n",
              "\n",
              "    .colab-df-convert:hover {\n",
              "      background-color: #E2EBFA;\n",
              "      box-shadow: 0px 1px 2px rgba(60, 64, 67, 0.3), 0px 1px 3px 1px rgba(60, 64, 67, 0.15);\n",
              "      fill: #174EA6;\n",
              "    }\n",
              "\n",
              "    [theme=dark] .colab-df-convert {\n",
              "      background-color: #3B4455;\n",
              "      fill: #D2E3FC;\n",
              "    }\n",
              "\n",
              "    [theme=dark] .colab-df-convert:hover {\n",
              "      background-color: #434B5C;\n",
              "      box-shadow: 0px 1px 3px 1px rgba(0, 0, 0, 0.15);\n",
              "      filter: drop-shadow(0px 1px 2px rgba(0, 0, 0, 0.3));\n",
              "      fill: #FFFFFF;\n",
              "    }\n",
              "  </style>\n",
              "\n",
              "      <script>\n",
              "        const buttonEl =\n",
              "          document.querySelector('#df-18dc81ea-4283-453a-9d42-cc5760ef484a button.colab-df-convert');\n",
              "        buttonEl.style.display =\n",
              "          google.colab.kernel.accessAllowed ? 'block' : 'none';\n",
              "\n",
              "        async function convertToInteractive(key) {\n",
              "          const element = document.querySelector('#df-18dc81ea-4283-453a-9d42-cc5760ef484a');\n",
              "          const dataTable =\n",
              "            await google.colab.kernel.invokeFunction('convertToInteractive',\n",
              "                                                     [key], {});\n",
              "          if (!dataTable) return;\n",
              "\n",
              "          const docLinkHtml = 'Like what you see? Visit the ' +\n",
              "            '<a target=\"_blank\" href=https://colab.research.google.com/notebooks/data_table.ipynb>data table notebook</a>'\n",
              "            + ' to learn more about interactive tables.';\n",
              "          element.innerHTML = '';\n",
              "          dataTable['output_type'] = 'display_data';\n",
              "          await google.colab.output.renderOutput(dataTable, element);\n",
              "          const docLink = document.createElement('div');\n",
              "          docLink.innerHTML = docLinkHtml;\n",
              "          element.appendChild(docLink);\n",
              "        }\n",
              "      </script>\n",
              "    </div>\n",
              "  </div>\n",
              "  "
            ]
          },
          "metadata": {},
          "execution_count": 6
        }
      ]
    },
    {
      "cell_type": "markdown",
      "source": [
        "5. Plot some columns."
      ],
      "metadata": {
        "id": "1HjPQjXGS74M"
      }
    },
    {
      "cell_type": "code",
      "source": [
        "df[5].hist()"
      ],
      "metadata": {
        "id": "Bo0523KXPuUO",
        "colab": {
          "base_uri": "https://localhost:8080/",
          "height": 503
        },
        "outputId": "0b16aaf1-64dd-4360-b530-207a0ebce356"
      },
      "execution_count": null,
      "outputs": [
        {
          "output_type": "error",
          "ename": "KeyError",
          "evalue": "ignored",
          "traceback": [
            "\u001b[0;31m---------------------------------------------------------------------------\u001b[0m",
            "\u001b[0;31mKeyError\u001b[0m                                  Traceback (most recent call last)",
            "\u001b[0;32m/usr/local/lib/python3.8/dist-packages/pandas/core/indexes/base.py\u001b[0m in \u001b[0;36mget_loc\u001b[0;34m(self, key, method, tolerance)\u001b[0m\n\u001b[1;32m   3360\u001b[0m             \u001b[0;32mtry\u001b[0m\u001b[0;34m:\u001b[0m\u001b[0;34m\u001b[0m\u001b[0;34m\u001b[0m\u001b[0m\n\u001b[0;32m-> 3361\u001b[0;31m                 \u001b[0;32mreturn\u001b[0m \u001b[0mself\u001b[0m\u001b[0;34m.\u001b[0m\u001b[0m_engine\u001b[0m\u001b[0;34m.\u001b[0m\u001b[0mget_loc\u001b[0m\u001b[0;34m(\u001b[0m\u001b[0mcasted_key\u001b[0m\u001b[0;34m)\u001b[0m\u001b[0;34m\u001b[0m\u001b[0;34m\u001b[0m\u001b[0m\n\u001b[0m\u001b[1;32m   3362\u001b[0m             \u001b[0;32mexcept\u001b[0m \u001b[0mKeyError\u001b[0m \u001b[0;32mas\u001b[0m \u001b[0merr\u001b[0m\u001b[0;34m:\u001b[0m\u001b[0;34m\u001b[0m\u001b[0;34m\u001b[0m\u001b[0m\n",
            "\u001b[0;32m/usr/local/lib/python3.8/dist-packages/pandas/_libs/index.pyx\u001b[0m in \u001b[0;36mpandas._libs.index.IndexEngine.get_loc\u001b[0;34m()\u001b[0m\n",
            "\u001b[0;32m/usr/local/lib/python3.8/dist-packages/pandas/_libs/index.pyx\u001b[0m in \u001b[0;36mpandas._libs.index.IndexEngine.get_loc\u001b[0;34m()\u001b[0m\n",
            "\u001b[0;32mpandas/_libs/hashtable_class_helper.pxi\u001b[0m in \u001b[0;36mpandas._libs.hashtable.PyObjectHashTable.get_item\u001b[0;34m()\u001b[0m\n",
            "\u001b[0;32mpandas/_libs/hashtable_class_helper.pxi\u001b[0m in \u001b[0;36mpandas._libs.hashtable.PyObjectHashTable.get_item\u001b[0;34m()\u001b[0m\n",
            "\u001b[0;31mKeyError\u001b[0m: 5",
            "\nThe above exception was the direct cause of the following exception:\n",
            "\u001b[0;31mKeyError\u001b[0m                                  Traceback (most recent call last)",
            "\u001b[0;32m<ipython-input-7-48c0a16260a8>\u001b[0m in \u001b[0;36m<module>\u001b[0;34m\u001b[0m\n\u001b[0;32m----> 1\u001b[0;31m \u001b[0mdf\u001b[0m\u001b[0;34m[\u001b[0m\u001b[0;36m5\u001b[0m\u001b[0;34m]\u001b[0m\u001b[0;34m.\u001b[0m\u001b[0mhist\u001b[0m\u001b[0;34m(\u001b[0m\u001b[0;34m)\u001b[0m\u001b[0;34m\u001b[0m\u001b[0;34m\u001b[0m\u001b[0m\n\u001b[0m",
            "\u001b[0;32m/usr/local/lib/python3.8/dist-packages/pandas/core/frame.py\u001b[0m in \u001b[0;36m__getitem__\u001b[0;34m(self, key)\u001b[0m\n\u001b[1;32m   3456\u001b[0m             \u001b[0;32mif\u001b[0m \u001b[0mself\u001b[0m\u001b[0;34m.\u001b[0m\u001b[0mcolumns\u001b[0m\u001b[0;34m.\u001b[0m\u001b[0mnlevels\u001b[0m \u001b[0;34m>\u001b[0m \u001b[0;36m1\u001b[0m\u001b[0;34m:\u001b[0m\u001b[0;34m\u001b[0m\u001b[0;34m\u001b[0m\u001b[0m\n\u001b[1;32m   3457\u001b[0m                 \u001b[0;32mreturn\u001b[0m \u001b[0mself\u001b[0m\u001b[0;34m.\u001b[0m\u001b[0m_getitem_multilevel\u001b[0m\u001b[0;34m(\u001b[0m\u001b[0mkey\u001b[0m\u001b[0;34m)\u001b[0m\u001b[0;34m\u001b[0m\u001b[0;34m\u001b[0m\u001b[0m\n\u001b[0;32m-> 3458\u001b[0;31m             \u001b[0mindexer\u001b[0m \u001b[0;34m=\u001b[0m \u001b[0mself\u001b[0m\u001b[0;34m.\u001b[0m\u001b[0mcolumns\u001b[0m\u001b[0;34m.\u001b[0m\u001b[0mget_loc\u001b[0m\u001b[0;34m(\u001b[0m\u001b[0mkey\u001b[0m\u001b[0;34m)\u001b[0m\u001b[0;34m\u001b[0m\u001b[0;34m\u001b[0m\u001b[0m\n\u001b[0m\u001b[1;32m   3459\u001b[0m             \u001b[0;32mif\u001b[0m \u001b[0mis_integer\u001b[0m\u001b[0;34m(\u001b[0m\u001b[0mindexer\u001b[0m\u001b[0;34m)\u001b[0m\u001b[0;34m:\u001b[0m\u001b[0;34m\u001b[0m\u001b[0;34m\u001b[0m\u001b[0m\n\u001b[1;32m   3460\u001b[0m                 \u001b[0mindexer\u001b[0m \u001b[0;34m=\u001b[0m \u001b[0;34m[\u001b[0m\u001b[0mindexer\u001b[0m\u001b[0;34m]\u001b[0m\u001b[0;34m\u001b[0m\u001b[0;34m\u001b[0m\u001b[0m\n",
            "\u001b[0;32m/usr/local/lib/python3.8/dist-packages/pandas/core/indexes/base.py\u001b[0m in \u001b[0;36mget_loc\u001b[0;34m(self, key, method, tolerance)\u001b[0m\n\u001b[1;32m   3361\u001b[0m                 \u001b[0;32mreturn\u001b[0m \u001b[0mself\u001b[0m\u001b[0;34m.\u001b[0m\u001b[0m_engine\u001b[0m\u001b[0;34m.\u001b[0m\u001b[0mget_loc\u001b[0m\u001b[0;34m(\u001b[0m\u001b[0mcasted_key\u001b[0m\u001b[0;34m)\u001b[0m\u001b[0;34m\u001b[0m\u001b[0;34m\u001b[0m\u001b[0m\n\u001b[1;32m   3362\u001b[0m             \u001b[0;32mexcept\u001b[0m \u001b[0mKeyError\u001b[0m \u001b[0;32mas\u001b[0m \u001b[0merr\u001b[0m\u001b[0;34m:\u001b[0m\u001b[0;34m\u001b[0m\u001b[0;34m\u001b[0m\u001b[0m\n\u001b[0;32m-> 3363\u001b[0;31m                 \u001b[0;32mraise\u001b[0m \u001b[0mKeyError\u001b[0m\u001b[0;34m(\u001b[0m\u001b[0mkey\u001b[0m\u001b[0;34m)\u001b[0m \u001b[0;32mfrom\u001b[0m \u001b[0merr\u001b[0m\u001b[0;34m\u001b[0m\u001b[0;34m\u001b[0m\u001b[0m\n\u001b[0m\u001b[1;32m   3364\u001b[0m \u001b[0;34m\u001b[0m\u001b[0m\n\u001b[1;32m   3365\u001b[0m         \u001b[0;32mif\u001b[0m \u001b[0mis_scalar\u001b[0m\u001b[0;34m(\u001b[0m\u001b[0mkey\u001b[0m\u001b[0;34m)\u001b[0m \u001b[0;32mand\u001b[0m \u001b[0misna\u001b[0m\u001b[0;34m(\u001b[0m\u001b[0mkey\u001b[0m\u001b[0;34m)\u001b[0m \u001b[0;32mand\u001b[0m \u001b[0;32mnot\u001b[0m \u001b[0mself\u001b[0m\u001b[0;34m.\u001b[0m\u001b[0mhasnans\u001b[0m\u001b[0;34m:\u001b[0m\u001b[0;34m\u001b[0m\u001b[0;34m\u001b[0m\u001b[0m\n",
            "\u001b[0;31mKeyError\u001b[0m: 5"
          ]
        }
      ]
    },
    {
      "cell_type": "markdown",
      "source": [
        "After finishing the exercise fill this one question [form](https://docs.google.com/forms/d/e/1FAIpQLSc1U9FGUqwizHwXZSf1dtGHwaGqyxjQuRxnhHYFPy1VUtrL4g/viewform?usp=sf_link) (mandatory) !"
      ],
      "metadata": {
        "id": "Z3m_Kom4fQcf"
      }
    }
  ]
}