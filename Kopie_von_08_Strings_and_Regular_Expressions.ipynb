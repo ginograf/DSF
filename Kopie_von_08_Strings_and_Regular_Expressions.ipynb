{
  "cells": [
    {
      "cell_type": "markdown",
      "metadata": {
        "id": "view-in-github",
        "colab_type": "text"
      },
      "source": [
        "<a href=\"https://colab.research.google.com/github/ginograf/DSF/blob/main/Kopie_von_08_Strings_and_Regular_Expressions.ipynb\" target=\"_parent\"><img src=\"https://colab.research.google.com/assets/colab-badge.svg\" alt=\"Open In Colab\"/></a>"
      ]
    },
    {
      "cell_type": "markdown",
      "metadata": {
        "id": "rWp1ym-qpRar"
      },
      "source": [
        "<!--BOOK_INFORMATION-->\n",
        "<img align=\"left\" style=\"padding-right:10px;\" src=\"https://github.com/sigvehaug/DSF-DCBP/blob/main/fig/cover-small.jpg?raw=1\">\n",
        "*This notebook contains an excerpt from the [Whirlwind Tour of Python](http://www.oreilly.com/programming/free/a-whirlwind-tour-of-python.csp) by Jake VanderPlas; the content is available [on GitHub](https://github.com/jakevdp/WhirlwindTourOfPython).*\n",
        "\n",
        "*The text and code are released under the [CC0](https://github.com/jakevdp/WhirlwindTourOfPython/blob/master/LICENSE) license; see also the companion project, the [Python Data Science Handbook](https://github.com/jakevdp/PythonDataScienceHandbook).*\n"
      ]
    },
    {
      "cell_type": "markdown",
      "metadata": {
        "id": "Fd2UVKX6pRaw"
      },
      "source": [
        "<!--NAVIGATION-->\n",
        "< [Modules and Packages](13-Modules-and-Packages.ipynb) | [Contents](Index.ipynb) | [A Preview of Data Science Tools](15-Preview-of-Data-Science-Tools.ipynb) >"
      ]
    },
    {
      "cell_type": "markdown",
      "metadata": {
        "id": "uGse1P6OpRaw"
      },
      "source": [
        "# String Manipulation and Regular Expressions"
      ]
    },
    {
      "cell_type": "markdown",
      "metadata": {
        "id": "BCRWVxz7pRax"
      },
      "source": [
        "One place where the Python language really shines is in the manipulation of strings.\n",
        "This section will cover some of Python's built-in string methods and formatting operations, before moving on to a quick guide to the extremely useful subject of *regular expressions*.\n",
        "Such string manipulation patterns come up often in the context of data science work, and is one big perk of Python in this context.\n",
        "\n",
        "Strings in Python can be defined using either single or double quotations (they are functionally equivalent):"
      ]
    },
    {
      "cell_type": "code",
      "execution_count": null,
      "metadata": {
        "id": "IFfeBEUJpRax",
        "outputId": "3c6ad316-afce-4d31-d7bb-e49260f0caee",
        "colab": {
          "base_uri": "https://localhost:8080/"
        }
      },
      "outputs": [
        {
          "output_type": "execute_result",
          "data": {
            "text/plain": [
              "True"
            ]
          },
          "metadata": {},
          "execution_count": 1
        }
      ],
      "source": [
        "x = 'a string'\n",
        "y = \"a string\"\n",
        "x == y"
      ]
    },
    {
      "cell_type": "markdown",
      "metadata": {
        "id": "84VxvYYCpRa2"
      },
      "source": [
        "In addition, it is possible to define multi-line strings using a triple-quote syntax:"
      ]
    },
    {
      "cell_type": "code",
      "execution_count": null,
      "metadata": {
        "id": "YERtoUmmpRa2",
        "colab": {
          "base_uri": "https://localhost:8080/",
          "height": 35
        },
        "outputId": "bd1a1a78-e3c0-4845-ce45-2a36ad98968b"
      },
      "outputs": [
        {
          "output_type": "execute_result",
          "data": {
            "text/plain": [
              "'\\none\\ntwo\\nthree\\n'"
            ],
            "application/vnd.google.colaboratory.intrinsic+json": {
              "type": "string"
            }
          },
          "metadata": {},
          "execution_count": 3
        }
      ],
      "source": [
        "multiline = \"\"\"\n",
        "one\n",
        "two\n",
        "three\n",
        "\"\"\""
      ]
    },
    {
      "cell_type": "markdown",
      "metadata": {
        "id": "ykTv5uevpRa3"
      },
      "source": [
        "With this, let's take a quick tour of some of Python's string manipulation tools."
      ]
    },
    {
      "cell_type": "markdown",
      "metadata": {
        "id": "C5_e6itnpRa3"
      },
      "source": [
        "## Simple String Manipulation in Python\n",
        "\n",
        "For basic manipulation of strings, Python's built-in string methods can be extremely convenient.\n",
        "If you have a background working in C or another low-level language, you will likely find the simplicity of Python's methods extremely refreshing.\n",
        "We introduced Python's string type and a few of these methods earlier; here we'll dive a bit deeper"
      ]
    },
    {
      "cell_type": "markdown",
      "metadata": {
        "id": "a4pH454_pRa4"
      },
      "source": [
        "### Formatting strings: Adjusting case\n",
        "\n",
        "Python makes it quite easy to adjust the case of a string.\n",
        "Here we'll look at the ``upper()``, ``lower()``, ``capitalize()``, ``title()``, and ``swapcase()`` methods, using the following messy string as an example:"
      ]
    },
    {
      "cell_type": "code",
      "execution_count": null,
      "metadata": {
        "collapsed": true,
        "id": "rAGRHFsipRa5"
      },
      "outputs": [],
      "source": [
        "fox = \"tHe qUICk bROWn fOx.\""
      ]
    },
    {
      "cell_type": "markdown",
      "metadata": {
        "id": "ef2U3G5SpRa5"
      },
      "source": [
        "To convert the entire string into upper-case or lower-case, you can use the ``upper()`` or ``lower()`` methods respectively:"
      ]
    },
    {
      "cell_type": "code",
      "execution_count": null,
      "metadata": {
        "id": "urnfEt8bpRa5",
        "outputId": "7bec5a8d-80a1-4771-dfbf-05b3e24b3963",
        "colab": {
          "base_uri": "https://localhost:8080/",
          "height": 35
        }
      },
      "outputs": [
        {
          "output_type": "execute_result",
          "data": {
            "text/plain": [
              "'THE QUICK BROWN FOX.'"
            ],
            "application/vnd.google.colaboratory.intrinsic+json": {
              "type": "string"
            }
          },
          "metadata": {},
          "execution_count": 5
        }
      ],
      "source": [
        "fox.upper()"
      ]
    },
    {
      "cell_type": "code",
      "execution_count": null,
      "metadata": {
        "id": "dHM5zDkapRa6",
        "outputId": "5af1c8c0-83fe-4839-dbba-d6c89cc82b4a",
        "colab": {
          "base_uri": "https://localhost:8080/",
          "height": 35
        }
      },
      "outputs": [
        {
          "output_type": "execute_result",
          "data": {
            "text/plain": [
              "'the quick brown fox.'"
            ],
            "application/vnd.google.colaboratory.intrinsic+json": {
              "type": "string"
            }
          },
          "metadata": {},
          "execution_count": 6
        }
      ],
      "source": [
        "fox.lower()"
      ]
    },
    {
      "cell_type": "markdown",
      "metadata": {
        "id": "IvtqdTwppRa6"
      },
      "source": [
        "A common formatting need is to capitalize just the first letter of each word, or perhaps the first letter of each sentence.\n",
        "This can be done with the ``title()`` and ``capitalize()`` methods:"
      ]
    },
    {
      "cell_type": "code",
      "execution_count": null,
      "metadata": {
        "id": "HnC16YgxpRa6",
        "outputId": "eb3fb986-8976-4841-dd73-8cf0fe24b759",
        "colab": {
          "base_uri": "https://localhost:8080/",
          "height": 35
        }
      },
      "outputs": [
        {
          "output_type": "execute_result",
          "data": {
            "text/plain": [
              "'The Quick Brown Fox.'"
            ],
            "application/vnd.google.colaboratory.intrinsic+json": {
              "type": "string"
            }
          },
          "metadata": {},
          "execution_count": 7
        }
      ],
      "source": [
        "fox.title()"
      ]
    },
    {
      "cell_type": "code",
      "execution_count": null,
      "metadata": {
        "id": "FKFqxQRypRa7",
        "outputId": "48d07375-62cf-470a-b752-4029f17d57ad",
        "colab": {
          "base_uri": "https://localhost:8080/",
          "height": 35
        }
      },
      "outputs": [
        {
          "output_type": "execute_result",
          "data": {
            "text/plain": [
              "'The quick brown fox.'"
            ],
            "application/vnd.google.colaboratory.intrinsic+json": {
              "type": "string"
            }
          },
          "metadata": {},
          "execution_count": 8
        }
      ],
      "source": [
        "fox.capitalize()"
      ]
    },
    {
      "cell_type": "markdown",
      "metadata": {
        "id": "H6N3OJ3GpRa7"
      },
      "source": [
        "The cases can be swapped using the ``swapcase()`` method:"
      ]
    },
    {
      "cell_type": "code",
      "execution_count": null,
      "metadata": {
        "id": "om_ReVAPpRa7",
        "outputId": "3d644274-6546-4208-8531-e46abcdd6228",
        "colab": {
          "base_uri": "https://localhost:8080/",
          "height": 35
        }
      },
      "outputs": [
        {
          "output_type": "execute_result",
          "data": {
            "text/plain": [
              "'ThE QuicK BrowN FoX.'"
            ],
            "application/vnd.google.colaboratory.intrinsic+json": {
              "type": "string"
            }
          },
          "metadata": {},
          "execution_count": 9
        }
      ],
      "source": [
        "fox.swapcase()"
      ]
    },
    {
      "cell_type": "markdown",
      "metadata": {
        "id": "rInrFCnjpRa7"
      },
      "source": [
        "### Formatting strings: Adding and removing spaces\n",
        "\n",
        "Another common need is to remove spaces (or other characters) from the beginning or end of the string.\n",
        "The basic method of removing characters is the ``strip()`` method, which strips whitespace from the beginning and end of the line:"
      ]
    },
    {
      "cell_type": "code",
      "execution_count": null,
      "metadata": {
        "colab": {
          "base_uri": "https://localhost:8080/",
          "height": 35
        },
        "id": "w92W83pZpRa8",
        "outputId": "d0d25213-5849-4915-ef70-9dc2758a3b5c"
      },
      "outputs": [
        {
          "output_type": "execute_result",
          "data": {
            "text/plain": [
              "'this is the content'"
            ],
            "application/vnd.google.colaboratory.intrinsic+json": {
              "type": "string"
            }
          },
          "metadata": {},
          "execution_count": 10
        }
      ],
      "source": [
        "line = '         this is the content         '\n",
        "line.strip()"
      ]
    },
    {
      "cell_type": "markdown",
      "metadata": {
        "id": "V8jX0ZdlpRa8"
      },
      "source": [
        "To remove just space to the right or left, use ``rstrip()`` or ``lstrip()`` respectively:"
      ]
    },
    {
      "cell_type": "code",
      "execution_count": null,
      "metadata": {
        "colab": {
          "base_uri": "https://localhost:8080/",
          "height": 35
        },
        "id": "8n4ga1U8pRa8",
        "outputId": "50cc55ce-48c2-4949-9e82-d4a457b9ad28"
      },
      "outputs": [
        {
          "output_type": "execute_result",
          "data": {
            "text/plain": [
              "'         this is the content'"
            ],
            "application/vnd.google.colaboratory.intrinsic+json": {
              "type": "string"
            }
          },
          "metadata": {},
          "execution_count": 12
        }
      ],
      "source": [
        "line.rstrip()"
      ]
    },
    {
      "cell_type": "code",
      "execution_count": null,
      "metadata": {
        "colab": {
          "base_uri": "https://localhost:8080/",
          "height": 35
        },
        "id": "bQiFoYrQpRa9",
        "outputId": "fb5f5dd5-4dd1-414b-a66a-2ca95dfedb92"
      },
      "outputs": [
        {
          "output_type": "execute_result",
          "data": {
            "text/plain": [
              "'this is the content         '"
            ],
            "application/vnd.google.colaboratory.intrinsic+json": {
              "type": "string"
            }
          },
          "metadata": {},
          "execution_count": 13
        }
      ],
      "source": [
        "line.lstrip()"
      ]
    },
    {
      "cell_type": "markdown",
      "metadata": {
        "id": "0cCOoElgpRa9"
      },
      "source": [
        "To remove characters other than spaces, you can pass the desired character to the ``strip()`` method:"
      ]
    },
    {
      "cell_type": "code",
      "execution_count": null,
      "metadata": {
        "colab": {
          "base_uri": "https://localhost:8080/",
          "height": 35
        },
        "id": "zxOrLmrjpRa9",
        "outputId": "6c8a16b4-c634-40a7-f69d-7cee87f399fd"
      },
      "outputs": [
        {
          "output_type": "execute_result",
          "data": {
            "text/plain": [
              "'435'"
            ],
            "application/vnd.google.colaboratory.intrinsic+json": {
              "type": "string"
            }
          },
          "metadata": {},
          "execution_count": 14
        }
      ],
      "source": [
        "num = \"000000000000435\"\n",
        "num.strip('0')"
      ]
    },
    {
      "cell_type": "markdown",
      "metadata": {
        "id": "I0LBITTapRa9"
      },
      "source": [
        "The opposite of this operation, adding spaces or other characters, can be accomplished using the ``center()``, ``ljust()``, and ``rjust()`` methods.\n",
        "\n",
        "For example, we can use the ``center()`` method to center a given string within a given number of spaces:"
      ]
    },
    {
      "cell_type": "code",
      "execution_count": null,
      "metadata": {
        "colab": {
          "base_uri": "https://localhost:8080/",
          "height": 35
        },
        "id": "_G9TYoV5pRa-",
        "outputId": "d29fb0a6-dfb7-40bd-a869-6d79bb70c9d8"
      },
      "outputs": [
        {
          "output_type": "execute_result",
          "data": {
            "text/plain": [
              "'     this is the content      '"
            ],
            "application/vnd.google.colaboratory.intrinsic+json": {
              "type": "string"
            }
          },
          "metadata": {},
          "execution_count": 15
        }
      ],
      "source": [
        "line = \"this is the content\"\n",
        "line.center(30)"
      ]
    },
    {
      "cell_type": "markdown",
      "metadata": {
        "id": "0HIDVa4ZpRa-"
      },
      "source": [
        "Similarly, ``ljust()`` and ``rjust()`` will left-justify or right-justify the string within spaces of a given length:"
      ]
    },
    {
      "cell_type": "code",
      "execution_count": null,
      "metadata": {
        "colab": {
          "base_uri": "https://localhost:8080/",
          "height": 35
        },
        "id": "ty583PZ_pRa-",
        "outputId": "2fb3fc05-d871-4cee-fa83-262cc8966575"
      },
      "outputs": [
        {
          "output_type": "execute_result",
          "data": {
            "text/plain": [
              "'this is the content           '"
            ],
            "application/vnd.google.colaboratory.intrinsic+json": {
              "type": "string"
            }
          },
          "metadata": {},
          "execution_count": 16
        }
      ],
      "source": [
        "line.ljust(30)"
      ]
    },
    {
      "cell_type": "code",
      "execution_count": null,
      "metadata": {
        "colab": {
          "base_uri": "https://localhost:8080/",
          "height": 35
        },
        "id": "8wuGLBF2pRa-",
        "outputId": "56b858ec-bf26-4470-f6bd-6267492845ee"
      },
      "outputs": [
        {
          "output_type": "execute_result",
          "data": {
            "text/plain": [
              "'           this is the content'"
            ],
            "application/vnd.google.colaboratory.intrinsic+json": {
              "type": "string"
            }
          },
          "metadata": {},
          "execution_count": 17
        }
      ],
      "source": [
        "line.rjust(30)"
      ]
    },
    {
      "cell_type": "markdown",
      "metadata": {
        "id": "xhEbpJycpRa-"
      },
      "source": [
        "All these methods additionally accept any character which will be used to fill the space.\n",
        "For example:"
      ]
    },
    {
      "cell_type": "code",
      "execution_count": null,
      "metadata": {
        "colab": {
          "base_uri": "https://localhost:8080/",
          "height": 35
        },
        "id": "EG896LaDpRa_",
        "outputId": "b38de8f5-c903-4600-b52d-df067a1c542e"
      },
      "outputs": [
        {
          "output_type": "execute_result",
          "data": {
            "text/plain": [
              "'0000000435'"
            ],
            "application/vnd.google.colaboratory.intrinsic+json": {
              "type": "string"
            }
          },
          "metadata": {},
          "execution_count": 19
        }
      ],
      "source": [
        "'435'.rjust(10, '0')"
      ]
    },
    {
      "cell_type": "markdown",
      "metadata": {
        "id": "eJbsWrhOpRa_"
      },
      "source": [
        "Because zero-filling is such a common need, Python also provides ``zfill()``, which is a special method to right-pad a string with zeros:"
      ]
    },
    {
      "cell_type": "code",
      "execution_count": null,
      "metadata": {
        "colab": {
          "base_uri": "https://localhost:8080/",
          "height": 35
        },
        "id": "ddlNKJdJpRa_",
        "outputId": "343ea42d-2817-4c8d-e8db-4b04326b3547"
      },
      "outputs": [
        {
          "output_type": "execute_result",
          "data": {
            "text/plain": [
              "'0000000435'"
            ],
            "application/vnd.google.colaboratory.intrinsic+json": {
              "type": "string"
            }
          },
          "metadata": {},
          "execution_count": 20
        }
      ],
      "source": [
        "'435'.zfill(10)"
      ]
    },
    {
      "cell_type": "markdown",
      "metadata": {
        "id": "YIoOILbbpRa_"
      },
      "source": [
        "### Finding and replacing substrings\n",
        "\n",
        "If you want to find occurrences of a certain character in a string, the ``find()``/``rfind()``, ``index()``/``rindex()``, and ``replace()`` methods are the best built-in methods.\n",
        "\n",
        "``find()`` and ``index()`` are very similar, in that they search for the first occurrence of a character or substring within a string, and return the index of the substring:"
      ]
    },
    {
      "cell_type": "code",
      "execution_count": null,
      "metadata": {
        "id": "HHpFbiEopRbA",
        "outputId": "36633903-64bc-463e-ddf2-2e0fb24e033c",
        "colab": {
          "base_uri": "https://localhost:8080/"
        }
      },
      "outputs": [
        {
          "output_type": "execute_result",
          "data": {
            "text/plain": [
              "16"
            ]
          },
          "metadata": {},
          "execution_count": 15
        }
      ],
      "source": [
        "line = 'the quick brown fox jumped over a lazy dog'\n",
        "line.find('fox')"
      ]
    },
    {
      "cell_type": "code",
      "execution_count": null,
      "metadata": {
        "id": "az41YnhNpRbA",
        "outputId": "141d64b2-9d66-45ec-e061-2525ce86b0c6",
        "colab": {
          "base_uri": "https://localhost:8080/"
        }
      },
      "outputs": [
        {
          "output_type": "execute_result",
          "data": {
            "text/plain": [
              "16"
            ]
          },
          "metadata": {},
          "execution_count": 22
        }
      ],
      "source": [
        "line.index('fox')"
      ]
    },
    {
      "cell_type": "markdown",
      "metadata": {
        "id": "w1zVomSspRbA"
      },
      "source": [
        "The only difference between ``find()`` and ``index()`` is their behavior when the search string is not found; ``find()`` returns ``-1``, while ``index()`` raises a ``ValueError``:"
      ]
    },
    {
      "cell_type": "code",
      "execution_count": null,
      "metadata": {
        "id": "E3FIWy1rpRbA",
        "outputId": "bae6aeb5-c0d9-43fb-fcaa-33c525de0de0",
        "colab": {
          "base_uri": "https://localhost:8080/"
        }
      },
      "outputs": [
        {
          "output_type": "execute_result",
          "data": {
            "text/plain": [
              "-1"
            ]
          },
          "metadata": {},
          "execution_count": 23
        }
      ],
      "source": [
        "line.find('bear')"
      ]
    },
    {
      "cell_type": "code",
      "execution_count": null,
      "metadata": {
        "id": "GZQxqaO9pRbA",
        "outputId": "7364c1e2-3b02-4868-c3ab-fa1c3ffc0163",
        "colab": {
          "base_uri": "https://localhost:8080/",
          "height": 166
        }
      },
      "outputs": [
        {
          "output_type": "error",
          "ename": "ValueError",
          "evalue": "ignored",
          "traceback": [
            "\u001b[0;31m---------------------------------------------------------------------------\u001b[0m",
            "\u001b[0;31mValueError\u001b[0m                                Traceback (most recent call last)",
            "\u001b[0;32m<ipython-input-24-adf599eb4c79>\u001b[0m in \u001b[0;36m<module>\u001b[0;34m\u001b[0m\n\u001b[0;32m----> 1\u001b[0;31m \u001b[0mline\u001b[0m\u001b[0;34m.\u001b[0m\u001b[0mindex\u001b[0m\u001b[0;34m(\u001b[0m\u001b[0;34m'bear'\u001b[0m\u001b[0;34m)\u001b[0m\u001b[0;34m\u001b[0m\u001b[0;34m\u001b[0m\u001b[0m\n\u001b[0m",
            "\u001b[0;31mValueError\u001b[0m: substring not found"
          ]
        }
      ],
      "source": [
        "line.index('bear')"
      ]
    },
    {
      "cell_type": "markdown",
      "metadata": {
        "id": "MuS-VmfXpRbB"
      },
      "source": [
        "The related ``rfind()`` and ``rindex()`` work similarly, except they search for the first occurrence from the end rather than the beginning of the string:"
      ]
    },
    {
      "cell_type": "code",
      "execution_count": null,
      "metadata": {
        "id": "ML35Mw72pRbB",
        "outputId": "23736f83-1b89-49e6-ecc3-953d324287e2",
        "colab": {
          "base_uri": "https://localhost:8080/"
        }
      },
      "outputs": [
        {
          "output_type": "execute_result",
          "data": {
            "text/plain": [
              "35"
            ]
          },
          "metadata": {},
          "execution_count": 26
        }
      ],
      "source": [
        "line.rfind('a')"
      ]
    },
    {
      "cell_type": "markdown",
      "metadata": {
        "id": "hw8qg9zLpRbB"
      },
      "source": [
        "For the special case of checking for a substring at the beginning or end of a string, Python provides the ``startswith()`` and ``endswith()`` methods:"
      ]
    },
    {
      "cell_type": "code",
      "execution_count": null,
      "metadata": {
        "id": "YgIwpG5npRbB",
        "outputId": "efee461d-23a2-4a0e-9858-548a4ff6fbbe",
        "colab": {
          "base_uri": "https://localhost:8080/"
        }
      },
      "outputs": [
        {
          "output_type": "execute_result",
          "data": {
            "text/plain": [
              "True"
            ]
          },
          "metadata": {},
          "execution_count": 27
        }
      ],
      "source": [
        "line.endswith('dog')"
      ]
    },
    {
      "cell_type": "code",
      "execution_count": null,
      "metadata": {
        "id": "zZeeT3XXpRbB",
        "outputId": "30d6df82-a754-40ea-89fd-bfd73e708b82",
        "colab": {
          "base_uri": "https://localhost:8080/"
        }
      },
      "outputs": [
        {
          "output_type": "execute_result",
          "data": {
            "text/plain": [
              "False"
            ]
          },
          "metadata": {},
          "execution_count": 28
        }
      ],
      "source": [
        "line.startswith('fox')"
      ]
    },
    {
      "cell_type": "markdown",
      "metadata": {
        "id": "rDF7pUttpRbB"
      },
      "source": [
        "To go one step further and replace a given substring with a new string, you can use the ``replace()`` method.\n",
        "Here, let's replace ``'brown'`` with ``'red'``:"
      ]
    },
    {
      "cell_type": "code",
      "execution_count": null,
      "metadata": {
        "id": "d05NsVKzpRbB",
        "outputId": "99310bf0-8502-4a76-b510-2d1343c3c029",
        "colab": {
          "base_uri": "https://localhost:8080/",
          "height": 35
        }
      },
      "outputs": [
        {
          "output_type": "execute_result",
          "data": {
            "text/plain": [
              "'the quick red fox jumped over a lazy dog'"
            ],
            "application/vnd.google.colaboratory.intrinsic+json": {
              "type": "string"
            }
          },
          "metadata": {},
          "execution_count": 29
        }
      ],
      "source": [
        "line.replace('brown', 'red')"
      ]
    },
    {
      "cell_type": "markdown",
      "metadata": {
        "id": "OxHYmn0cpRbC"
      },
      "source": [
        "The ``replace()`` function returns a new string, and will replace all occurrences of the input:"
      ]
    },
    {
      "cell_type": "code",
      "execution_count": null,
      "metadata": {
        "id": "eoBJXl4npRbC",
        "outputId": "893461da-f714-42f0-9c43-b230aa9ce58a",
        "colab": {
          "base_uri": "https://localhost:8080/",
          "height": 35
        }
      },
      "outputs": [
        {
          "output_type": "execute_result",
          "data": {
            "text/plain": [
              "'the quick br--wn f--x jumped --ver a lazy d--g'"
            ],
            "application/vnd.google.colaboratory.intrinsic+json": {
              "type": "string"
            }
          },
          "metadata": {},
          "execution_count": 30
        }
      ],
      "source": [
        "line.replace('o', '--')"
      ]
    },
    {
      "cell_type": "markdown",
      "metadata": {
        "id": "GJPypkiDpRbC"
      },
      "source": [
        "For a more flexible approach to this ``replace()`` functionality, see the discussion of regular expressions in [Flexible Pattern Matching with Regular Expressions](#Flexible-Pattern-Matching-with-Regular-Expressions)."
      ]
    },
    {
      "cell_type": "markdown",
      "metadata": {
        "id": "Gxl5MpGcpRbC"
      },
      "source": [
        "### Splitting and partitioning strings\n",
        "\n",
        "If you would like to find a substring *and then* split the string based on its location, the ``partition()`` and/or ``split()`` methods are what you're looking for.\n",
        "Both will return a sequence of substrings.\n",
        "\n",
        "The ``partition()`` method returns a tuple with three elements: the substring before the first instance of the split-point, the split-point itself, and the substring after:"
      ]
    },
    {
      "cell_type": "code",
      "execution_count": null,
      "metadata": {
        "id": "0AzSDjVqpRbC",
        "outputId": "10446490-6a8c-4789-9fdc-589277fee80b",
        "colab": {
          "base_uri": "https://localhost:8080/"
        }
      },
      "outputs": [
        {
          "output_type": "execute_result",
          "data": {
            "text/plain": [
              "('the quick brown ', 'fox', ' jumped over a lazy dog')"
            ]
          },
          "metadata": {},
          "execution_count": 31
        }
      ],
      "source": [
        "line.partition('fox')"
      ]
    },
    {
      "cell_type": "markdown",
      "metadata": {
        "id": "W9ZN-Z4UpRbC"
      },
      "source": [
        "The ``rpartition()`` method is similar, but searches from the right of the string.\n",
        "\n",
        "The ``split()`` method is perhaps more useful; it finds *all* instances of the split-point and returns the substrings in between.\n",
        "The default is to split on any whitespace, returning a list of the individual words in a string:"
      ]
    },
    {
      "cell_type": "code",
      "execution_count": null,
      "metadata": {
        "id": "8TaYA9WSpRbD",
        "outputId": "38d115ca-8a04-43f1-a2e1-b7cff3f208b3",
        "colab": {
          "base_uri": "https://localhost:8080/"
        }
      },
      "outputs": [
        {
          "output_type": "execute_result",
          "data": {
            "text/plain": [
              "['the', 'quick', 'brown', 'fox', 'jumped', 'over', 'a', 'lazy', 'dog']"
            ]
          },
          "metadata": {},
          "execution_count": 32
        }
      ],
      "source": [
        "line.split()"
      ]
    },
    {
      "cell_type": "markdown",
      "metadata": {
        "id": "2fpeDwSXpRbD"
      },
      "source": [
        "A related method is ``splitlines()``, which splits on newline characters.\n",
        "Let's do this with a Haiku, popularly attributed to the 17th-century poet Matsuo Bashō:"
      ]
    },
    {
      "cell_type": "code",
      "execution_count": null,
      "metadata": {
        "id": "s0vJM79EpRbD",
        "outputId": "4c118baa-884e-4de4-970a-aca367723f32",
        "colab": {
          "base_uri": "https://localhost:8080/"
        }
      },
      "outputs": [
        {
          "output_type": "execute_result",
          "data": {
            "text/plain": [
              "['matsushima-ya', 'aah matsushima-ya', 'matsushima-ya']"
            ]
          },
          "metadata": {},
          "execution_count": 33
        }
      ],
      "source": [
        "haiku = \"\"\"matsushima-ya\n",
        "aah matsushima-ya\n",
        "matsushima-ya\"\"\"\n",
        "\n",
        "haiku.splitlines()"
      ]
    },
    {
      "cell_type": "markdown",
      "metadata": {
        "id": "yVm8ZlxppRbD"
      },
      "source": [
        "Note that if you would like to undo a ``split()``, you can use the ``join()`` method, which returns a string built from a splitpoint and an iterable:"
      ]
    },
    {
      "cell_type": "code",
      "execution_count": null,
      "metadata": {
        "id": "zSbBxmJ_pRbD",
        "outputId": "585223a3-44b0-4125-c5b5-31bcd1cf2aa4",
        "colab": {
          "base_uri": "https://localhost:8080/",
          "height": 35
        }
      },
      "outputs": [
        {
          "output_type": "execute_result",
          "data": {
            "text/plain": [
              "'1--2--3'"
            ],
            "application/vnd.google.colaboratory.intrinsic+json": {
              "type": "string"
            }
          },
          "metadata": {},
          "execution_count": 34
        }
      ],
      "source": [
        "'--'.join(['1', '2', '3'])"
      ]
    },
    {
      "cell_type": "markdown",
      "metadata": {
        "id": "79u4D2wapRbE"
      },
      "source": [
        "A common pattern is to use the special character ``\"\\n\"`` (newline) to join together lines that have been previously split, and recover the input:"
      ]
    },
    {
      "cell_type": "code",
      "execution_count": null,
      "metadata": {
        "id": "XpTVLVNVpRbE",
        "outputId": "78babba6-665f-41f8-f34d-d6be720d4e65",
        "colab": {
          "base_uri": "https://localhost:8080/"
        }
      },
      "outputs": [
        {
          "output_type": "stream",
          "name": "stdout",
          "text": [
            "matsushima-ya\n",
            "aah matsushima-ya\n",
            "matsushima-ya\n"
          ]
        }
      ],
      "source": [
        "print(\"\\n\".join(['matsushima-ya', 'aah matsushima-ya', 'matsushima-ya']))"
      ]
    },
    {
      "cell_type": "markdown",
      "metadata": {
        "id": "lJ6quTX6pRbE"
      },
      "source": [
        "## Format Strings\n",
        "\n",
        "In the preceding methods, we have learned how to extract values from strings, and to manipulate strings themselves into desired formats.\n",
        "Another use of string methods is to manipulate string *representations* of values of other types.\n",
        "Of course, string representations can always be found using the ``str()`` function; for example:"
      ]
    },
    {
      "cell_type": "code",
      "execution_count": null,
      "metadata": {
        "id": "gifKXuFQpRbE",
        "outputId": "0e3396cf-0e28-4e38-90d9-9fe53034c8d0",
        "colab": {
          "base_uri": "https://localhost:8080/",
          "height": 35
        }
      },
      "outputs": [
        {
          "output_type": "execute_result",
          "data": {
            "text/plain": [
              "'3.14159'"
            ],
            "application/vnd.google.colaboratory.intrinsic+json": {
              "type": "string"
            }
          },
          "metadata": {},
          "execution_count": 1
        }
      ],
      "source": [
        "pi = 3.14159\n",
        "str(pi)"
      ]
    },
    {
      "cell_type": "markdown",
      "metadata": {
        "id": "WwdbJKOYpRbE"
      },
      "source": [
        "For more complicated formats, you might be tempted to use string arithmetic as outlined in [Basic Python Semantics: Operators](04-Semantics-Operators.ipynb):"
      ]
    },
    {
      "cell_type": "code",
      "execution_count": null,
      "metadata": {
        "id": "cwDk1jdXpRbE",
        "outputId": "620079ca-8dad-41d6-8e86-5c460d255069",
        "colab": {
          "base_uri": "https://localhost:8080/",
          "height": 35
        }
      },
      "outputs": [
        {
          "output_type": "execute_result",
          "data": {
            "text/plain": [
              "'The value of pi is 3.14159'"
            ],
            "application/vnd.google.colaboratory.intrinsic+json": {
              "type": "string"
            }
          },
          "metadata": {},
          "execution_count": 2
        }
      ],
      "source": [
        "\"The value of pi is \" + str(pi)"
      ]
    },
    {
      "cell_type": "markdown",
      "metadata": {
        "id": "iHTOnrzBpRbE"
      },
      "source": [
        "A more flexible way to do this is to use *format strings*, which are strings with special markers (noted by curly braces) into which string-formatted values will be inserted.\n",
        "Here is a basic example:"
      ]
    },
    {
      "cell_type": "code",
      "execution_count": null,
      "metadata": {
        "id": "pezv3JHnpRbF",
        "outputId": "193b9f78-7cf0-4772-cb7a-e2a1e793630c",
        "colab": {
          "base_uri": "https://localhost:8080/",
          "height": 35
        }
      },
      "outputs": [
        {
          "output_type": "execute_result",
          "data": {
            "text/plain": [
              "'The value of pi is 3.14159'"
            ],
            "application/vnd.google.colaboratory.intrinsic+json": {
              "type": "string"
            }
          },
          "metadata": {},
          "execution_count": 3
        }
      ],
      "source": [
        "\"The value of pi is {}\".format(pi)"
      ]
    },
    {
      "cell_type": "markdown",
      "metadata": {
        "id": "IbjUi48PpRbF"
      },
      "source": [
        "Inside the ``{}`` marker you can also include information on exactly *what* you would like to appear there.\n",
        "If you include a number, it will refer to the index of the argument to insert:"
      ]
    },
    {
      "cell_type": "code",
      "execution_count": null,
      "metadata": {
        "id": "3tlMmBMvpRbF",
        "outputId": "4ea34b9f-991c-4404-cd06-4902be8daa25",
        "colab": {
          "base_uri": "https://localhost:8080/",
          "height": 35
        }
      },
      "outputs": [
        {
          "output_type": "execute_result",
          "data": {
            "text/plain": [
              "'First letter: A. Last letter: Z.'"
            ],
            "application/vnd.google.colaboratory.intrinsic+json": {
              "type": "string"
            }
          },
          "metadata": {},
          "execution_count": 4
        }
      ],
      "source": [
        "\"\"\"First letter: {0}. Last letter: {1}.\"\"\".format('A', 'Z')"
      ]
    },
    {
      "cell_type": "markdown",
      "metadata": {
        "id": "O9zC1kRtpRbF"
      },
      "source": [
        "If you include a string, it will refer to the key of any keyword argument:"
      ]
    },
    {
      "cell_type": "code",
      "execution_count": null,
      "metadata": {
        "id": "wjMwIjmFpRbF",
        "outputId": "fa55be64-68db-40c1-fa4b-e7879d1b4909",
        "colab": {
          "base_uri": "https://localhost:8080/",
          "height": 35
        }
      },
      "outputs": [
        {
          "output_type": "execute_result",
          "data": {
            "text/plain": [
              "'First letter: A. Last letter: Z.'"
            ],
            "application/vnd.google.colaboratory.intrinsic+json": {
              "type": "string"
            }
          },
          "metadata": {},
          "execution_count": 5
        }
      ],
      "source": [
        "\"\"\"First letter: {first}. Last letter: {last}.\"\"\".format(last='Z', first='A')"
      ]
    },
    {
      "cell_type": "markdown",
      "metadata": {
        "id": "hOVFLtnapRbF"
      },
      "source": [
        "Finally, for numerical inputs, you can include format codes which control how the value is converted to a string.\n",
        "For example, to print a number as a floating point with three digits after the decimal point, you can use the following:"
      ]
    },
    {
      "cell_type": "code",
      "execution_count": null,
      "metadata": {
        "id": "SE3mLIoCpRbF",
        "outputId": "5fd40b1e-0794-4273-c3fe-08af131f01f0",
        "colab": {
          "base_uri": "https://localhost:8080/",
          "height": 35
        }
      },
      "outputs": [
        {
          "output_type": "execute_result",
          "data": {
            "text/plain": [
              "'pi = 3.142'"
            ],
            "application/vnd.google.colaboratory.intrinsic+json": {
              "type": "string"
            }
          },
          "metadata": {},
          "execution_count": 6
        }
      ],
      "source": [
        "\"pi = {0:.3f}\".format(pi)"
      ]
    },
    {
      "cell_type": "markdown",
      "metadata": {
        "id": "tYXH7v4hpRbG"
      },
      "source": [
        "As before, here the \"``0``\" refers to the index of the value to be inserted.\n",
        "The \"``:``\" marks that format codes will follow.\n",
        "The \"``.3f``\" encodes the desired precision: three digits beyond the decimal point, floating-point format.\n",
        "\n",
        "This style of format specification is very flexible, and the examples here barely scratch the surface of the formatting options available.\n",
        "For more information on the syntax of these format strings, see the [Format Specification](https://docs.python.org/3/library/string.html#formatspec) section of Python's online documentation."
      ]
    },
    {
      "cell_type": "markdown",
      "metadata": {
        "id": "eB9PUIzDpRbG"
      },
      "source": [
        "## Flexible Pattern Matching with Regular Expressions\n",
        "\n",
        "The methods of Python's ``str`` type give you a powerful set of tools for formatting, splitting, and manipulating string data.\n",
        "But even more powerful tools are available in Python's built-in *regular expression* module.\n",
        "Regular expressions are a huge topic; there are there are entire books written on the topic (including Jeffrey E.F. Friedl’s [*Mastering Regular Expressions, 3rd Edition*](http://shop.oreilly.com/product/9780596528126.do)), so it will be hard to do justice within just a single subsection.\n",
        "\n",
        "My goal here is to give you an idea of the types of problems that might be addressed using regular expressions, as well as a basic idea of how to use them in Python.\n",
        "I'll suggest some references for learning more in [Further Resources on Regular Expressions](#Further-Resources-on-Regular-Expressions).\n",
        "\n",
        "Fundamentally, regular expressions are a means of *flexible pattern matching* in strings.\n",
        "If you frequently use the command-line, you are probably familiar with this type of flexible matching with the \"``*``\" character, which acts as a wildcard.\n",
        "For example, we can list all the IPython notebooks (i.e., files with extension *.ipynb*) with \"Python\" in their filename by using the \"``*``\" wildcard to match any characters in between:"
      ]
    },
    {
      "cell_type": "code",
      "execution_count": null,
      "metadata": {
        "id": "7d2PthTApRbG",
        "outputId": "0f14d039-7c0b-4f97-e359-a9f4a30ba454",
        "colab": {
          "base_uri": "https://localhost:8080/"
        }
      },
      "outputs": [
        {
          "output_type": "stream",
          "name": "stdout",
          "text": [
            "ls: cannot access '*Python*.ipynb': No such file or directory\n"
          ]
        }
      ],
      "source": [
        "!ls *Python*.ipynb"
      ]
    },
    {
      "cell_type": "markdown",
      "metadata": {
        "id": "u2zn0ctBpRbG"
      },
      "source": [
        "Regular expressions generalize this \"wildcard\" idea to a wide range of flexible string-matching sytaxes.\n",
        "The Python interface to regular expressions is contained in the built-in ``re`` module; as a simple example, let's use it to duplicate the functionality of the string ``split()`` method:"
      ]
    },
    {
      "cell_type": "code",
      "execution_count": null,
      "metadata": {
        "id": "KG8Iadm_pRbG",
        "outputId": "6222f2d5-0beb-49e8-9b55-8e02041a10b8",
        "colab": {
          "base_uri": "https://localhost:8080/"
        }
      },
      "outputs": [
        {
          "output_type": "execute_result",
          "data": {
            "text/plain": [
              "['the', 'quick', 'brown', 'fox', 'jumped', 'over', 'a', 'lazy', 'dog']"
            ]
          },
          "metadata": {},
          "execution_count": 16
        }
      ],
      "source": [
        "import re\n",
        "regex = re.compile('\\s+')\n",
        "regex.split(line)"
      ]
    },
    {
      "cell_type": "markdown",
      "metadata": {
        "id": "Zipxi8BTpRbH"
      },
      "source": [
        "Here we've first *compiled* a regular expression, then used it to *split* a string.\n",
        "Just as Python's ``split()`` method returns a list of all substrings between whitespace, the regular expression ``split()`` method returns a list of all substrings between matches to the input pattern.\n",
        "\n",
        "In this case, the input is ``\"\\s+\"``: \"``\\s``\" is a special character that matches any whitespace (space, tab, newline, etc.), and the \"``+``\" is a character that indicates *one or more* of the entity preceding it.\n",
        "Thus, the regular expression matches any substring consisting of one or more spaces.\n",
        "\n",
        "The ``split()`` method here is basically a convenience routine built upon this *pattern matching* behavior; more fundamental is the ``match()`` method, which will tell you whether the beginning of a string matches the pattern:"
      ]
    },
    {
      "cell_type": "code",
      "execution_count": null,
      "metadata": {
        "id": "FNX22EbwpRbH",
        "outputId": "d2e26b96-b263-4d52-aa06-fbc517adbdd5",
        "colab": {
          "base_uri": "https://localhost:8080/"
        }
      },
      "outputs": [
        {
          "output_type": "stream",
          "name": "stdout",
          "text": [
            "'     ' matches\n",
            "'abc  ' does not match\n",
            "'  abc' matches\n"
          ]
        }
      ],
      "source": [
        "for s in [\"     \", \"abc  \", \"  abc\"]:\n",
        "    if regex.match(s):\n",
        "        print(repr(s), \"matches\")\n",
        "    else:\n",
        "        print(repr(s), \"does not match\")"
      ]
    },
    {
      "cell_type": "markdown",
      "metadata": {
        "id": "fbnbjPdfpRbH"
      },
      "source": [
        "Like ``split()``, there are similar convenience routines to find the first match (like ``str.index()`` or ``str.find()``) or to find and replace (like ``str.replace()``).\n",
        "We'll again use the line from before:"
      ]
    },
    {
      "cell_type": "code",
      "execution_count": null,
      "metadata": {
        "collapsed": true,
        "id": "OdTSkQsKpRbH"
      },
      "outputs": [],
      "source": [
        "line = 'the quick brown fox jumped over a lazy dog'"
      ]
    },
    {
      "cell_type": "markdown",
      "metadata": {
        "id": "uZt7YE3QpRbH"
      },
      "source": [
        "With this, we can see that the ``regex.search()`` method operates a lot like ``str.index()`` or ``str.find()``:"
      ]
    },
    {
      "cell_type": "code",
      "execution_count": null,
      "metadata": {
        "id": "UtEjkqkupRbH",
        "outputId": "f29378e2-ca56-4f07-96aa-638a0ae3905d",
        "colab": {
          "base_uri": "https://localhost:8080/"
        }
      },
      "outputs": [
        {
          "output_type": "execute_result",
          "data": {
            "text/plain": [
              "16"
            ]
          },
          "metadata": {},
          "execution_count": 17
        }
      ],
      "source": [
        "line.index('fox')"
      ]
    },
    {
      "cell_type": "code",
      "execution_count": null,
      "metadata": {
        "id": "AVYUYBQbpRbH",
        "outputId": "05009b92-cd6d-402f-a477-662afe74c279",
        "colab": {
          "base_uri": "https://localhost:8080/"
        }
      },
      "outputs": [
        {
          "output_type": "execute_result",
          "data": {
            "text/plain": [
              "16"
            ]
          },
          "metadata": {},
          "execution_count": 18
        }
      ],
      "source": [
        "regex = re.compile('fox')\n",
        "match = regex.search(line)\n",
        "match.start()"
      ]
    },
    {
      "cell_type": "markdown",
      "metadata": {
        "id": "CRQPSmGypRbI"
      },
      "source": [
        "Similarly, the ``regex.sub()`` method operates much like ``str.replace()``:"
      ]
    },
    {
      "cell_type": "code",
      "execution_count": null,
      "metadata": {
        "id": "y3YFFRGZpRbI",
        "outputId": "939a6ca3-b38f-467d-a2e3-8a8dad309981",
        "colab": {
          "base_uri": "https://localhost:8080/",
          "height": 35
        }
      },
      "outputs": [
        {
          "output_type": "execute_result",
          "data": {
            "text/plain": [
              "'the quick brown BEAR jumped over a lazy dog'"
            ],
            "application/vnd.google.colaboratory.intrinsic+json": {
              "type": "string"
            }
          },
          "metadata": {},
          "execution_count": 19
        }
      ],
      "source": [
        "line.replace('fox', 'BEAR')"
      ]
    },
    {
      "cell_type": "code",
      "execution_count": null,
      "metadata": {
        "id": "6ZhBNUpJpRbI",
        "outputId": "451fb2f1-ecf6-4459-a5d2-7f31a7e1825c",
        "colab": {
          "base_uri": "https://localhost:8080/",
          "height": 35
        }
      },
      "outputs": [
        {
          "output_type": "execute_result",
          "data": {
            "text/plain": [
              "'the quick brown BEAR jumped over a lazy dog'"
            ],
            "application/vnd.google.colaboratory.intrinsic+json": {
              "type": "string"
            }
          },
          "metadata": {},
          "execution_count": 20
        }
      ],
      "source": [
        "regex.sub('BEAR', line)"
      ]
    },
    {
      "cell_type": "markdown",
      "metadata": {
        "id": "-qTEXp1HpRbI"
      },
      "source": [
        "With a bit of thought, other native string operations can also be cast as regular expressions."
      ]
    },
    {
      "cell_type": "markdown",
      "metadata": {
        "id": "Z7OPpA3YpRbI"
      },
      "source": [
        "### A more sophisticated example\n",
        "\n",
        "But, you might ask, why would you want to use the more complicated and verbose syntax of regular expressions rather than the more intuitive and simple string methods?\n",
        "The advantage is that regular expressions offer *far* more flexibility.\n",
        "\n",
        "Here we'll consider a more complicated example: the common task of matching email addresses.\n",
        "I'll start by simply writing a (somewhat indecipherable) regular expression, and then walk through what is going on.\n",
        "Here it goes:"
      ]
    },
    {
      "cell_type": "code",
      "execution_count": null,
      "metadata": {
        "collapsed": true,
        "id": "LWYMcmHzpRbI"
      },
      "outputs": [],
      "source": [
        "email = re.compile('\\w+@\\w+\\.[a-z]{3}')"
      ]
    },
    {
      "cell_type": "markdown",
      "metadata": {
        "id": "25b_6dd2pRbI"
      },
      "source": [
        "Using this, if we're given a line from a document, we can quickly extract things that look like email addresses"
      ]
    },
    {
      "cell_type": "code",
      "execution_count": null,
      "metadata": {
        "id": "5TIF46aCpRbJ",
        "outputId": "e8fac3f7-af41-474e-a858-1d65c2037f90",
        "colab": {
          "base_uri": "https://localhost:8080/"
        }
      },
      "outputs": [
        {
          "output_type": "execute_result",
          "data": {
            "text/plain": [
              "['guido@python.org', 'guido@google.com']"
            ]
          },
          "metadata": {},
          "execution_count": 22
        }
      ],
      "source": [
        "text = \"To email Guido, try guido@python.org or the older address guido@google.com.\"\n",
        "email.findall(text)"
      ]
    },
    {
      "cell_type": "markdown",
      "metadata": {
        "id": "HoMmIQnNpRbJ"
      },
      "source": [
        "(Note that these addresses are entirely made up; there are probably better ways to get in touch with Guido).\n",
        "\n",
        "We can do further operations, like replacing these email addresses with another string, perhaps to hide addresses in the output:"
      ]
    },
    {
      "cell_type": "code",
      "execution_count": null,
      "metadata": {
        "id": "qQbn7hpOpRbJ",
        "outputId": "f634cf85-7750-4ae9-a3df-24a4d37b65c7",
        "colab": {
          "base_uri": "https://localhost:8080/",
          "height": 35
        }
      },
      "outputs": [
        {
          "output_type": "execute_result",
          "data": {
            "text/plain": [
              "'To email Guido, try --@--.-- or the older address --@--.--.'"
            ],
            "application/vnd.google.colaboratory.intrinsic+json": {
              "type": "string"
            }
          },
          "metadata": {},
          "execution_count": 23
        }
      ],
      "source": [
        "email.sub('--@--.--', text)"
      ]
    },
    {
      "cell_type": "markdown",
      "metadata": {
        "id": "veZQXZ2FpRbJ"
      },
      "source": [
        "Finally, note that if you really want to match *any* email address, the preceding regular expression is far too simple.\n",
        "For example, it only allows addresses made of alphanumeric characters that end in one of several common domain suffixes.\n",
        "So, for example, the period used here means that we only find part of the address:"
      ]
    },
    {
      "cell_type": "code",
      "execution_count": null,
      "metadata": {
        "id": "X2NwN6RspRbJ",
        "outputId": "f3be4421-5665-490c-badb-fb1bfddcb8d6",
        "colab": {
          "base_uri": "https://localhost:8080/"
        }
      },
      "outputs": [
        {
          "output_type": "execute_result",
          "data": {
            "text/plain": [
              "['obama@whitehouse.gov']"
            ]
          },
          "metadata": {},
          "execution_count": 24
        }
      ],
      "source": [
        "email.findall('barack.obama@whitehouse.gov')"
      ]
    },
    {
      "cell_type": "markdown",
      "metadata": {
        "id": "DxFSPTb-pRbJ"
      },
      "source": [
        "This goes to show how unforgiving regular expressions can be if you're not careful!\n",
        "If you search around online, you can find some suggestions for regular expressions that will match *all* valid emails, but beware: they are much more involved than the simple expression used here!"
      ]
    },
    {
      "cell_type": "markdown",
      "metadata": {
        "id": "fbQCQ1P2pRbJ"
      },
      "source": [
        "### Basics of regular expression syntax\n",
        "\n",
        "The syntax of regular expressions is much too large a topic for this short section.\n",
        "Still, a bit of familiarity can go a long way: I will walk through some of the basic constructs here, and then list some more complete resources from which you can learn more.\n",
        "My hope is that the following quick primer will enable you to use these resources effectively."
      ]
    },
    {
      "cell_type": "markdown",
      "metadata": {
        "id": "9kdN1cnypRbK"
      },
      "source": [
        "#### Simple strings are matched directly\n",
        "\n",
        "If you build a regular expression on a simple string of characters or digits, it will match that exact string:"
      ]
    },
    {
      "cell_type": "code",
      "execution_count": null,
      "metadata": {
        "id": "hWoQRajKpRbK",
        "outputId": "ef68f5f1-5bdc-440c-885b-663f549efd2e",
        "colab": {
          "base_uri": "https://localhost:8080/"
        }
      },
      "outputs": [
        {
          "output_type": "execute_result",
          "data": {
            "text/plain": [
              "['ion']"
            ]
          },
          "metadata": {},
          "execution_count": 25
        }
      ],
      "source": [
        "regex = re.compile('ion')\n",
        "regex.findall('Great Expectations')"
      ]
    },
    {
      "cell_type": "markdown",
      "metadata": {
        "id": "QuSOXuBnpRbK"
      },
      "source": [
        "#### Some characters have special meanings\n",
        "\n",
        "While simple letters or numbers are direct matches, there are a handful of characters that have special meanings within regular expressions. They are:\n",
        "<!-- ```\n",
        ". ^ $ * + ? { } [ ] \\ | ( ) -->\n",
        "```\n",
        "We will discuss the meaning of some of these momentarily.\n",
        "In the meantime, you should know that if you'd like to match any of these characters directly, you can *escape* them with a back-slash:"
      ]
    },
    {
      "cell_type": "code",
      "execution_count": null,
      "metadata": {
        "id": "pIYlj0zgpRbK",
        "outputId": "61817167-9715-4929-ddf0-81f319198368",
        "colab": {
          "base_uri": "https://localhost:8080/"
        }
      },
      "outputs": [
        {
          "output_type": "execute_result",
          "data": {
            "text/plain": [
              "['$']"
            ]
          },
          "metadata": {},
          "execution_count": 26
        }
      ],
      "source": [
        "regex = re.compile(r'\\$')\n",
        "regex.findall(\"the cost is $20\")"
      ]
    },
    {
      "cell_type": "markdown",
      "metadata": {
        "id": "J8uaE5OmpRbK"
      },
      "source": [
        "The ``r`` preface in ``r'\\$'`` indicates a *raw string*; in standard Python strings, the backslash is used to indicate special characters.\n",
        "For example, a tab is indicated by ``\"\\t\"``:"
      ]
    },
    {
      "cell_type": "code",
      "execution_count": null,
      "metadata": {
        "id": "q4gUx3dTpRbK",
        "outputId": "7a6cbe57-4032-4090-bdfd-bfa11dff4e3b",
        "colab": {
          "base_uri": "https://localhost:8080/"
        }
      },
      "outputs": [
        {
          "output_type": "stream",
          "name": "stdout",
          "text": [
            "a\tb\tc\n"
          ]
        }
      ],
      "source": [
        "print('a\\tb\\tc')"
      ]
    },
    {
      "cell_type": "markdown",
      "metadata": {
        "id": "zYR-e-1GpRbK"
      },
      "source": [
        "Such substitutions are not made in a raw string:"
      ]
    },
    {
      "cell_type": "code",
      "execution_count": null,
      "metadata": {
        "id": "eLeUYOjnpRbK",
        "outputId": "e196e382-2ae6-4e73-a3ac-25027b76f945",
        "colab": {
          "base_uri": "https://localhost:8080/"
        }
      },
      "outputs": [
        {
          "output_type": "stream",
          "name": "stdout",
          "text": [
            "a\\tb\\tc\n"
          ]
        }
      ],
      "source": [
        "print(r'a\\tb\\tc')"
      ]
    },
    {
      "cell_type": "markdown",
      "metadata": {
        "id": "M4nP7woopRbL"
      },
      "source": [
        "For this reason, whenever you use backslashes in a regular expression, it is good practice to use a raw string."
      ]
    },
    {
      "cell_type": "markdown",
      "metadata": {
        "id": "FzGG9-_spRbL"
      },
      "source": [
        "#### Special characters can match character groups\n",
        "\n",
        "Just as the ``\"\\\"`` character within regular expressions can escape special characters, turning them into normal characters, it can also be used to give normal characters special meaning.\n",
        "These special characters match specified groups of characters, and we've seen them before.\n",
        "In the email address regexp from before, we used the character ``\"\\w\"``, which is a special marker matching *any alphanumeric character*. Similarly, in the simple ``split()`` example, we also saw ``\"\\s\"``, a special marker indicating *any whitespace character*.\n",
        "\n",
        "Putting these together, we can create a regular expression that will match *any two letters/digits with whitespace between them*:"
      ]
    },
    {
      "cell_type": "code",
      "execution_count": null,
      "metadata": {
        "id": "d90sOoIppRbL",
        "outputId": "03c7c9f7-d0fd-461f-a1b0-0f093ffb00e4",
        "colab": {
          "base_uri": "https://localhost:8080/"
        }
      },
      "outputs": [
        {
          "output_type": "execute_result",
          "data": {
            "text/plain": [
              "['e f', 'x i', 's 9', 's o']"
            ]
          },
          "metadata": {},
          "execution_count": 29
        }
      ],
      "source": [
        "regex = re.compile(r'\\w\\s\\w')\n",
        "regex.findall('the fox is 9 years old')"
      ]
    },
    {
      "cell_type": "markdown",
      "metadata": {
        "id": "V4OGI9OepRbL"
      },
      "source": [
        "This example begins to hint at the power and flexibility of regular expressions."
      ]
    },
    {
      "cell_type": "markdown",
      "metadata": {
        "id": "ALnJKaXcpRbL"
      },
      "source": [
        "The following table lists a few of these characters that are commonly useful:\n",
        "\n",
        "| Character | Description                 || Character | Description                     |\n",
        "|-----------|-----------------------------||-----------|---------------------------------|\n",
        "| ``\"\\d\"``  | Match any digit             || ``\"\\D\"``  | Match any non-digit             |\n",
        "| ``\"\\s\"``  | Match any whitespace        || ``\"\\S\"``  | Match any non-whitespace        |\n",
        "| ``\"\\w\"``  | Match any alphanumeric char || ``\"\\W\"``  | Match any non-alphanumeric char |\n",
        "\n",
        "This is *not* a comprehensive list or description; for more details, see Python's [regular expression syntax documentation](https://docs.python.org/3/library/re.html#re-syntax)."
      ]
    },
    {
      "cell_type": "markdown",
      "metadata": {
        "id": "yrS3dOLnpRbL"
      },
      "source": [
        "#### Square brackets match custom character groups\n",
        "\n",
        "If the built-in character groups aren't specific enough for you, you can use square brackets to specify any set of characters you're interested in.\n",
        "For example, the following will match any lower-case vowel:"
      ]
    },
    {
      "cell_type": "code",
      "execution_count": null,
      "metadata": {
        "id": "tKDY24pbpRbL",
        "outputId": "cd2192ab-a151-4221-afb3-b01e43d76d17",
        "colab": {
          "base_uri": "https://localhost:8080/"
        }
      },
      "outputs": [
        {
          "output_type": "execute_result",
          "data": {
            "text/plain": [
              "['c', 'ns', 'q', '', 'nt', '', 'l']"
            ]
          },
          "metadata": {},
          "execution_count": 30
        }
      ],
      "source": [
        "regex = re.compile('[aeiou]')\n",
        "regex.split('consequential')"
      ]
    },
    {
      "cell_type": "markdown",
      "metadata": {
        "id": "RyNxgALIpRbM"
      },
      "source": [
        "Similarly, you can use a dash to specify a range: for example, ``\"[a-z]\"`` will match any lower-case letter, and ``\"[1-3]\"`` will match any of ``\"1\"``, ``\"2\"``, or ``\"3\"``.\n",
        "For instance, you may need to extract from a document specific numerical codes that consist of a capital letter followed by a digit. You could do this as follows:"
      ]
    },
    {
      "cell_type": "code",
      "execution_count": null,
      "metadata": {
        "id": "ECvrJyFTpRbM",
        "outputId": "f61cf157-d9f2-4be8-dbb1-829fec6734d5",
        "colab": {
          "base_uri": "https://localhost:8080/"
        }
      },
      "outputs": [
        {
          "output_type": "execute_result",
          "data": {
            "text/plain": [
              "['G2', 'H6']"
            ]
          },
          "metadata": {},
          "execution_count": 31
        }
      ],
      "source": [
        "regex = re.compile('[A-Z][0-9]')\n",
        "regex.findall('1043879, G2, H6')"
      ]
    },
    {
      "cell_type": "markdown",
      "metadata": {
        "id": "meZZpDC-pRbM"
      },
      "source": [
        "#### Wildcards match repeated characters\n",
        "\n",
        "If you would like to match a string with, say, three alphanumeric characters in a row, it is possible to write, for example, ``\"\\w\\w\\w\"``.\n",
        "Because this is such a common need, there is a specific syntax to match repetitions – curly braces with a number:"
      ]
    },
    {
      "cell_type": "code",
      "execution_count": null,
      "metadata": {
        "id": "Vm4LWli3pRbM",
        "outputId": "3cf90572-e7f7-4a53-8ea0-221501e37594",
        "colab": {
          "base_uri": "https://localhost:8080/"
        }
      },
      "outputs": [
        {
          "output_type": "execute_result",
          "data": {
            "text/plain": [
              "['The', 'qui', 'bro', 'fox']"
            ]
          },
          "metadata": {},
          "execution_count": 32
        }
      ],
      "source": [
        "regex = re.compile(r'\\w{3}')\n",
        "regex.findall('The quick brown fox')"
      ]
    },
    {
      "cell_type": "markdown",
      "metadata": {
        "id": "wQ5rmnuGpRbM"
      },
      "source": [
        "There are also markers available to match any number of repetitions – for example, the ``\"+\"`` character will match *one or more* repetitions of what precedes it:"
      ]
    },
    {
      "cell_type": "code",
      "execution_count": null,
      "metadata": {
        "id": "_V-kc-ygpRbM",
        "outputId": "d56a02bc-f605-40fd-ad21-a2e021645028",
        "colab": {
          "base_uri": "https://localhost:8080/"
        }
      },
      "outputs": [
        {
          "output_type": "execute_result",
          "data": {
            "text/plain": [
              "['The', 'quick', 'brown', 'fox']"
            ]
          },
          "metadata": {},
          "execution_count": 33
        }
      ],
      "source": [
        "regex = re.compile(r'\\w+')\n",
        "regex.findall('The quick brown fox')"
      ]
    },
    {
      "cell_type": "markdown",
      "metadata": {
        "id": "A7K7qD9QpRbM"
      },
      "source": [
        "The following is a table of the repetition markers available for use in regular expressions:\n",
        "\n",
        "| Character | Description | Example |\n",
        "|-----------|-------------|---------|\n",
        "| ``?`` | Match zero or one repetitions of preceding  | ``\"ab?\"`` matches ``\"a\"`` or ``\"ab\"`` |\n",
        "| ``*`` | Match zero or more repetitions of preceding | ``\"ab*\"`` matches ``\"a\"``, ``\"ab\"``, ``\"abb\"``, ``\"abbb\"``... |\n",
        "| ``+`` | Match one or more repetitions of preceding  | ``\"ab+\"`` matches ``\"ab\"``, ``\"abb\"``, ``\"abbb\"``... but not ``\"a\"`` |\n",
        "| ``{n}`` | Match ``n`` repetitions of preeeding | ``\"ab{2}\"`` matches ``\"abb\"`` |\n",
        "| ``{m,n}`` | Match between ``m`` and ``n`` repetitions of preceding | ``\"ab{2,3}\"`` matches ``\"abb\"`` or ``\"abbb\"`` |"
      ]
    },
    {
      "cell_type": "markdown",
      "metadata": {
        "id": "frvj_ChBpRbN"
      },
      "source": [
        "With these basics in mind, let's return to our email address matcher:"
      ]
    },
    {
      "cell_type": "code",
      "execution_count": null,
      "metadata": {
        "collapsed": true,
        "id": "rOB6xvpFpRbN"
      },
      "outputs": [],
      "source": [
        "email = re.compile(r'\\w+@\\w+\\.[a-z]{3}')"
      ]
    },
    {
      "cell_type": "markdown",
      "metadata": {
        "id": "NzqrSrxSpRbN"
      },
      "source": [
        "We can now understand what this means: we want one or more alphanumeric character (``\"\\w+\"``) followed by the *at sign* (``\"@\"``), followed by one or more alphanumeric character (``\"\\w+\"``), followed by a period (``\"\\.\"`` – note the need for a backslash escape), followed by exactly three lower-case letters.\n",
        "\n",
        "If we want to now modify this so that the Obama email address matches, we can do so using the square-bracket notation:"
      ]
    },
    {
      "cell_type": "code",
      "execution_count": null,
      "metadata": {
        "id": "hvIm3nn0pRbN",
        "outputId": "1b84b0dc-6155-4abf-fb9a-7e76e3402f5a",
        "colab": {
          "base_uri": "https://localhost:8080/"
        }
      },
      "outputs": [
        {
          "output_type": "execute_result",
          "data": {
            "text/plain": [
              "['barack.obama@whitehouse.gov']"
            ]
          },
          "metadata": {},
          "execution_count": 35
        }
      ],
      "source": [
        "email2 = re.compile(r'[\\w.]+@\\w+\\.[a-z]{3}')\n",
        "email2.findall('barack.obama@whitehouse.gov')"
      ]
    },
    {
      "cell_type": "markdown",
      "metadata": {
        "id": "dMdVTPK7pRbN"
      },
      "source": [
        "We have changed ``\"\\w+\"`` to ``\"[\\w.]+\"``, so we will match any alphanumeric character *or* a period.\n",
        "With this more flexible expression, we can match a wider range of email addresses (though still not all – can you identify other shortcomings of this expression?)."
      ]
    },
    {
      "cell_type": "markdown",
      "metadata": {
        "id": "MxoA0isOpRbN"
      },
      "source": [
        "#### Parentheses indicate *groups* to extract\n",
        "\n",
        "For compound regular expressions like our email matcher, we often want to extract their components rather than the full match. This can be done using parentheses to *group* the results:"
      ]
    },
    {
      "cell_type": "code",
      "execution_count": null,
      "metadata": {
        "collapsed": true,
        "id": "VuinNONlpRbN"
      },
      "outputs": [],
      "source": [
        "email3 = re.compile(r'([\\w.]+)@(\\w+)\\.([a-z]{3})')"
      ]
    },
    {
      "cell_type": "code",
      "execution_count": null,
      "metadata": {
        "id": "k3lR2BEtpRbO",
        "outputId": "9dcb3183-38ad-4add-fcbb-83c4b8dc41ff",
        "colab": {
          "base_uri": "https://localhost:8080/"
        }
      },
      "outputs": [
        {
          "output_type": "execute_result",
          "data": {
            "text/plain": [
              "[('guido', 'python', 'org'), ('guido', 'google', 'com')]"
            ]
          },
          "metadata": {},
          "execution_count": 37
        }
      ],
      "source": [
        "text = \"To email Guido, try guido@python.org or the older address guido@google.com.\"\n",
        "email3.findall(text)"
      ]
    },
    {
      "cell_type": "markdown",
      "metadata": {
        "id": "Q7635lmIpRbO"
      },
      "source": [
        "As we see, this grouping actually extracts a list of the sub-components of the email address.\n",
        "\n",
        "We can go a bit further and *name* the extracted components using the ``\"(?P<name> )\"`` syntax, in which case the groups can be extracted as a Python dictionary:"
      ]
    },
    {
      "cell_type": "code",
      "execution_count": null,
      "metadata": {
        "id": "WfjNYBpTpRbO",
        "outputId": "01eedaf4-333e-4c34-be61-a24648ef8e1e",
        "colab": {
          "base_uri": "https://localhost:8080/"
        }
      },
      "outputs": [
        {
          "output_type": "execute_result",
          "data": {
            "text/plain": [
              "{'user': 'guido', 'domain': 'python', 'suffix': 'org'}"
            ]
          },
          "metadata": {},
          "execution_count": 38
        }
      ],
      "source": [
        "email4 = re.compile(r'(?P<user>[\\w.]+)@(?P<domain>\\w+)\\.(?P<suffix>[a-z]{3})')\n",
        "match = email4.match('guido@python.org')\n",
        "match.groupdict()"
      ]
    },
    {
      "cell_type": "markdown",
      "metadata": {
        "id": "_Z05sQv_pRbO"
      },
      "source": [
        "Combining these ideas (as well as some of the powerful regexp syntax that we have not covered here) allows you to flexibly and quickly extract information from strings in Python."
      ]
    },
    {
      "cell_type": "markdown",
      "metadata": {
        "id": "82mn_3-_pRbP"
      },
      "source": [
        "### Further Resources on Regular Expressions\n",
        "\n",
        "The above discussion is just a quick (and far from complete) treatment of this large topic.\n",
        "If you'd like to learn more, I recommend the following resources:\n",
        "\n",
        "- [Python's ``re`` package Documentation](https://docs.python.org/3/library/re.html): I find that I promptly forget how to use regular expressions just about every time I use them. Now that I have the basics down, I have found this page to be an incredibly valuable resource to recall what each specific character or sequence means within a regular expression.\n",
        "- [Python's official regular expression HOWTO](https://docs.python.org/3/howto/regex.html): a more narrative approach to regular expressions in Python.\n",
        "- [Mastering Regular Expressions (OReilly, 2006)](http://shop.oreilly.com/product/9780596528126.do) is a 500+ page book on the subject. If you want a really complete treatment of this topic, this is the resource for you.\n",
        "\n",
        "For some examples of string manipulation and regular expressions in action at a larger scale, see [Pandas: Labeled Column-oriented Data](15-Preview-of-Data-Science-Tools.ipynb#Pandas:-Labeled-Column-oriented-Data), where we look at applying these sorts of expressions across *tables* of string data within the Pandas package."
      ]
    },
    {
      "cell_type": "markdown",
      "metadata": {
        "id": "GgcN-raWpRbP"
      },
      "source": [
        "<!--NAVIGATION-->\n",
        "< [Modules and Packages](13-Modules-and-Packages.ipynb) | [Contents](Index.ipynb) | [A Preview of Data Science Tools](15-Preview-of-Data-Science-Tools.ipynb) >"
      ]
    }
  ],
  "metadata": {
    "anaconda-cloud": {},
    "kernelspec": {
      "display_name": "Python 3",
      "language": "python",
      "name": "python3"
    },
    "language_info": {
      "codemirror_mode": {
        "name": "ipython",
        "version": 3
      },
      "file_extension": ".py",
      "mimetype": "text/x-python",
      "name": "python",
      "nbconvert_exporter": "python",
      "pygments_lexer": "ipython3",
      "version": "3.5.1"
    },
    "colab": {
      "provenance": [],
      "include_colab_link": true
    }
  },
  "nbformat": 4,
  "nbformat_minor": 0
}