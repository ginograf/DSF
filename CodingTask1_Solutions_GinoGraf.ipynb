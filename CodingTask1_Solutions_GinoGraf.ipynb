{
  "nbformat": 4,
  "nbformat_minor": 0,
  "metadata": {
    "colab": {
      "provenance": [],
      "include_colab_link": true
    },
    "kernelspec": {
      "name": "python3",
      "display_name": "Python 3"
    },
    "language_info": {
      "name": "python"
    }
  },
  "cells": [
    {
      "cell_type": "markdown",
      "metadata": {
        "id": "view-in-github",
        "colab_type": "text"
      },
      "source": [
        "<a href=\"https://colab.research.google.com/github/ginograf/DSF/blob/main/CodingTask1_Solutions_GinoGraf.ipynb\" target=\"_parent\"><img src=\"https://colab.research.google.com/assets/colab-badge.svg\" alt=\"Open In Colab\"/></a>"
      ]
    },
    {
      "cell_type": "markdown",
      "source": [
        "Data Science Fundamentals for DCBP, S. Haug, University of Bern "
      ],
      "metadata": {
        "id": "_-1mhuoK6uqC"
      }
    },
    {
      "cell_type": "markdown",
      "source": [
        "# Coding Task 1\n",
        "\n",
        "- Deadline (upload to Ilias): 2022-03-22 17:00\n",
        "- Estimated effort: 2-5 hours (if you don't progress after 2 hours of trying, search for help, ChatGPT, Google, colleagues, course tutor)\n",
        "- Data on Ilias: CCD-Data with metadata file CCD-Metadata\n"
      ],
      "metadata": {
        "id": "gn4RkUC66-ou"
      }
    },
    {
      "cell_type": "markdown",
      "source": [
        "## Tasks (maximum 12.5 points)"
      ],
      "metadata": {
        "id": "KYKF2iS56v1z"
      }
    },
    {
      "cell_type": "markdown",
      "source": [
        "- **CT-1.1** Write a method (function) which removes the header information in the \n",
        "datafile and saves that information into a separate textfile. [0.5 points] \n",
        "- **CT-1.2** Write a function which reduces the data resolution by merging/averaging columns such that there is only one column per 1 nm. [2.0 points]  \n",
        "- **CT-1.3** Now generalize the above merging so that it works for any number nm er column. [2.0 points]\n",
        "- **CT-1.4** Implement the saving of the reduced dataset to a file. Do this (1) by writing an explicit loop (write line by line) and (2) by using pandas methods. Measure the running times of the two approaches. [2.0 points]\n",
        "- **CT-1.5** Write a function which takes two wavelengths as input and plots the difference of the data at these lengths over time. [2.0 points] \n",
        "- **CT-1.6** Let the x-axis be in seconds, label the axes with names and units, label the plot with color and legend, make a title for the plot. Save the plot to a file. [2.0 points]\n",
        "- **CT-1.7** Plot the full and some reduced datasets in the same figure. Is there any visual difference? [2.0 points]"
      ],
      "metadata": {
        "id": "rXqhhPMu9aPx"
      }
    },
    {
      "cell_type": "markdown",
      "source": [
        "CT-1.1:"
      ],
      "metadata": {
        "id": "cuMGJeYKNmEa"
      }
    },
    {
      "cell_type": "code",
      "source": [
        "import matplotlib.pyplot as plt\n",
        "import numpy as np\n",
        "import pandas as pd\n",
        "from google.colab import drive\n",
        "drive.mount('/content/drive')\n",
        "path = '/content/drive/MyDrive/Colab Notebooks/CCD-Data.txt'"
      ],
      "metadata": {
        "id": "OfvMackX-SFc",
        "colab": {
          "base_uri": "https://localhost:8080/",
          "height": 0
        },
        "outputId": "2e66ff44-145c-4651-f89a-b3b73ef28505"
      },
      "execution_count": 3,
      "outputs": [
        {
          "output_type": "stream",
          "name": "stdout",
          "text": [
            "Mounted at /content/drive\n"
          ]
        }
      ]
    },
    {
      "cell_type": "code",
      "source": [
        "df = pd.read_csv(path, delimiter=',')\n",
        "df2 = pd.read_csv(path, delimiter='\\t', header =13)\n",
        "df_header = df.head(12)"
      ],
      "metadata": {
        "id": "7iNx81v2dyCi"
      },
      "execution_count": 21,
      "outputs": []
    },
    {
      "cell_type": "code",
      "source": [
        "from pickle import FALSE\n",
        "with open('header_information.txt', 'w') as hi:\n",
        "    df_headerinfo = df_header.to_string(header=FALSE, index=FALSE)\n",
        "    hi.write(df_headerinfo)\n",
        "with open('datafile.txt', 'w') as f:\n",
        "  df_datafile = df2.to_string(header=FALSE, index=FALSE)\n",
        "  f.write(df_datafile)"
      ],
      "metadata": {
        "id": "A2JUw8ayqmqH"
      },
      "execution_count": 5,
      "outputs": []
    },
    {
      "cell_type": "markdown",
      "source": [
        "CT-1.2:"
      ],
      "metadata": {
        "id": "INot0kgssffK"
      }
    },
    {
      "cell_type": "code",
      "source": [
        "integer_df = df2.iloc[:,2:]\n",
        "column_names = integer_df.columns.tolist()\n",
        "new_column_names = []\n",
        "i = 0\n",
        "while i < len(column_names):\n",
        "  new_column_names.append(int(float(column_names[i])))\n",
        "  i += 1\n",
        "integer_df.columns = new_column_names\n",
        "reduced_df = integer_df2.groupby(integer_df2.columns, axis=1).mean()\n",
        "reduced_df.insert(0, 'time', df2['Unnamed: 1'])\n",
        "reduced_df"
      ],
      "metadata": {
        "colab": {
          "base_uri": "https://localhost:8080/",
          "height": 488
        },
        "id": "LfR6_7hmjyuK",
        "outputId": "0d792e64-aabb-4291-e658-fb3494249d42"
      },
      "execution_count": 40,
      "outputs": [
        {
          "output_type": "execute_result",
          "data": {
            "text/plain": [
              "              time       316       317       318       319       320  \\\n",
              "0    1540456324789  0.329672 -0.166957 -0.064746  0.133130  0.123705   \n",
              "1    1540456324878 -0.044412 -0.411839 -0.133472  2.032979 -0.387814   \n",
              "2    1540456324962  0.338219 -0.094507 -0.024912  0.061890 -0.226986   \n",
              "3    1540456325046 -0.049682  0.027980 -0.008338 -0.088350  0.070348   \n",
              "4    1540456325129  0.335086 -0.162378 -0.102281  0.045717 -0.088278   \n",
              "..             ...       ...       ...       ...       ...       ...   \n",
              "350  1540456354404 -0.048929 -0.438802  1.870540 -0.089910  0.026243   \n",
              "351  1540456354488  0.851907 -0.282855 -0.039069 -0.227483 -0.140185   \n",
              "352  1540456354576  0.329255 -0.074950  0.074278 -0.053091 -0.073518   \n",
              "353  1540456354660  0.330061 -0.260591 -0.020120  0.093793  0.100177   \n",
              "354  1540456354744  0.101879 -0.044056 -0.018367  0.052064 -0.184325   \n",
              "\n",
              "          321       322       323       324  ...       771       772  \\\n",
              "0   -0.249831  0.271327 -0.093151 -0.123458  ... -0.038555 -0.038021   \n",
              "1   -0.031617  0.322955  1.744725 -0.051639  ... -0.038100 -0.038118   \n",
              "2    0.107871  0.121011 -0.208504 -0.418836  ... -0.038063 -0.038303   \n",
              "3   -0.013674  0.307321  0.159532 -0.047932  ... -0.037775 -0.037678   \n",
              "4    0.042099  0.304675 -0.261077 -0.009424  ... -0.038433 -0.038135   \n",
              "..        ...       ...       ...       ...  ...       ...       ...   \n",
              "350  0.046500  0.342797 -0.024736  0.087382  ... -0.037537 -0.036913   \n",
              "351  0.055663  0.211854 -0.064256  0.039251  ... -0.036774 -0.036255   \n",
              "352  0.004167  0.393093 -0.051061  0.048273  ... -0.037064 -0.037087   \n",
              "353  0.134214  0.319046  0.029385  0.033831  ... -0.036520 -0.036748   \n",
              "354  0.217345  0.319578 -0.109302  0.034795  ... -0.036704 -0.036247   \n",
              "\n",
              "          773       774       775       776       777       778       779  \\\n",
              "0   -0.039290 -0.038654 -0.036496 -0.038835 -0.038145 -0.038333 -0.037679   \n",
              "1   -0.038622 -0.038308 -0.036896 -0.039010 -0.038400 -0.037930 -0.037812   \n",
              "2   -0.039200 -0.038397 -0.036932 -0.038245 -0.037664 -0.037514 -0.037057   \n",
              "3   -0.038711 -0.038133 -0.036972 -0.038177 -0.037273 -0.036996 -0.036614   \n",
              "4   -0.038991 -0.038178 -0.037010 -0.038540 -0.038076 -0.037606 -0.038132   \n",
              "..        ...       ...       ...       ...       ...       ...       ...   \n",
              "350 -0.038062 -0.037199 -0.035328 -0.037879 -0.037486 -0.036303 -0.036122   \n",
              "351 -0.037614 -0.037000 -0.035254 -0.037384 -0.036114 -0.035518 -0.035928   \n",
              "352 -0.037948 -0.036972 -0.035591 -0.036524 -0.036691 -0.036766 -0.036246   \n",
              "353 -0.037822 -0.036839 -0.035118 -0.037559 -0.036426 -0.036488 -0.036505   \n",
              "354 -0.037451 -0.036805 -0.035636 -0.036897 -0.036027 -0.035583 -0.035322   \n",
              "\n",
              "          780  \n",
              "0   -0.035545  \n",
              "1   -0.038165  \n",
              "2   -0.036903  \n",
              "3   -0.036822  \n",
              "4   -0.035900  \n",
              "..        ...  \n",
              "350 -0.033582  \n",
              "351 -0.035408  \n",
              "352 -0.035039  \n",
              "353 -0.034496  \n",
              "354 -0.034725  \n",
              "\n",
              "[355 rows x 466 columns]"
            ],
            "text/html": [
              "\n",
              "  <div id=\"df-3adade23-583d-45c5-9aa6-4102402ed26e\">\n",
              "    <div class=\"colab-df-container\">\n",
              "      <div>\n",
              "<style scoped>\n",
              "    .dataframe tbody tr th:only-of-type {\n",
              "        vertical-align: middle;\n",
              "    }\n",
              "\n",
              "    .dataframe tbody tr th {\n",
              "        vertical-align: top;\n",
              "    }\n",
              "\n",
              "    .dataframe thead th {\n",
              "        text-align: right;\n",
              "    }\n",
              "</style>\n",
              "<table border=\"1\" class=\"dataframe\">\n",
              "  <thead>\n",
              "    <tr style=\"text-align: right;\">\n",
              "      <th></th>\n",
              "      <th>time</th>\n",
              "      <th>316</th>\n",
              "      <th>317</th>\n",
              "      <th>318</th>\n",
              "      <th>319</th>\n",
              "      <th>320</th>\n",
              "      <th>321</th>\n",
              "      <th>322</th>\n",
              "      <th>323</th>\n",
              "      <th>324</th>\n",
              "      <th>...</th>\n",
              "      <th>771</th>\n",
              "      <th>772</th>\n",
              "      <th>773</th>\n",
              "      <th>774</th>\n",
              "      <th>775</th>\n",
              "      <th>776</th>\n",
              "      <th>777</th>\n",
              "      <th>778</th>\n",
              "      <th>779</th>\n",
              "      <th>780</th>\n",
              "    </tr>\n",
              "  </thead>\n",
              "  <tbody>\n",
              "    <tr>\n",
              "      <th>0</th>\n",
              "      <td>1540456324789</td>\n",
              "      <td>0.329672</td>\n",
              "      <td>-0.166957</td>\n",
              "      <td>-0.064746</td>\n",
              "      <td>0.133130</td>\n",
              "      <td>0.123705</td>\n",
              "      <td>-0.249831</td>\n",
              "      <td>0.271327</td>\n",
              "      <td>-0.093151</td>\n",
              "      <td>-0.123458</td>\n",
              "      <td>...</td>\n",
              "      <td>-0.038555</td>\n",
              "      <td>-0.038021</td>\n",
              "      <td>-0.039290</td>\n",
              "      <td>-0.038654</td>\n",
              "      <td>-0.036496</td>\n",
              "      <td>-0.038835</td>\n",
              "      <td>-0.038145</td>\n",
              "      <td>-0.038333</td>\n",
              "      <td>-0.037679</td>\n",
              "      <td>-0.035545</td>\n",
              "    </tr>\n",
              "    <tr>\n",
              "      <th>1</th>\n",
              "      <td>1540456324878</td>\n",
              "      <td>-0.044412</td>\n",
              "      <td>-0.411839</td>\n",
              "      <td>-0.133472</td>\n",
              "      <td>2.032979</td>\n",
              "      <td>-0.387814</td>\n",
              "      <td>-0.031617</td>\n",
              "      <td>0.322955</td>\n",
              "      <td>1.744725</td>\n",
              "      <td>-0.051639</td>\n",
              "      <td>...</td>\n",
              "      <td>-0.038100</td>\n",
              "      <td>-0.038118</td>\n",
              "      <td>-0.038622</td>\n",
              "      <td>-0.038308</td>\n",
              "      <td>-0.036896</td>\n",
              "      <td>-0.039010</td>\n",
              "      <td>-0.038400</td>\n",
              "      <td>-0.037930</td>\n",
              "      <td>-0.037812</td>\n",
              "      <td>-0.038165</td>\n",
              "    </tr>\n",
              "    <tr>\n",
              "      <th>2</th>\n",
              "      <td>1540456324962</td>\n",
              "      <td>0.338219</td>\n",
              "      <td>-0.094507</td>\n",
              "      <td>-0.024912</td>\n",
              "      <td>0.061890</td>\n",
              "      <td>-0.226986</td>\n",
              "      <td>0.107871</td>\n",
              "      <td>0.121011</td>\n",
              "      <td>-0.208504</td>\n",
              "      <td>-0.418836</td>\n",
              "      <td>...</td>\n",
              "      <td>-0.038063</td>\n",
              "      <td>-0.038303</td>\n",
              "      <td>-0.039200</td>\n",
              "      <td>-0.038397</td>\n",
              "      <td>-0.036932</td>\n",
              "      <td>-0.038245</td>\n",
              "      <td>-0.037664</td>\n",
              "      <td>-0.037514</td>\n",
              "      <td>-0.037057</td>\n",
              "      <td>-0.036903</td>\n",
              "    </tr>\n",
              "    <tr>\n",
              "      <th>3</th>\n",
              "      <td>1540456325046</td>\n",
              "      <td>-0.049682</td>\n",
              "      <td>0.027980</td>\n",
              "      <td>-0.008338</td>\n",
              "      <td>-0.088350</td>\n",
              "      <td>0.070348</td>\n",
              "      <td>-0.013674</td>\n",
              "      <td>0.307321</td>\n",
              "      <td>0.159532</td>\n",
              "      <td>-0.047932</td>\n",
              "      <td>...</td>\n",
              "      <td>-0.037775</td>\n",
              "      <td>-0.037678</td>\n",
              "      <td>-0.038711</td>\n",
              "      <td>-0.038133</td>\n",
              "      <td>-0.036972</td>\n",
              "      <td>-0.038177</td>\n",
              "      <td>-0.037273</td>\n",
              "      <td>-0.036996</td>\n",
              "      <td>-0.036614</td>\n",
              "      <td>-0.036822</td>\n",
              "    </tr>\n",
              "    <tr>\n",
              "      <th>4</th>\n",
              "      <td>1540456325129</td>\n",
              "      <td>0.335086</td>\n",
              "      <td>-0.162378</td>\n",
              "      <td>-0.102281</td>\n",
              "      <td>0.045717</td>\n",
              "      <td>-0.088278</td>\n",
              "      <td>0.042099</td>\n",
              "      <td>0.304675</td>\n",
              "      <td>-0.261077</td>\n",
              "      <td>-0.009424</td>\n",
              "      <td>...</td>\n",
              "      <td>-0.038433</td>\n",
              "      <td>-0.038135</td>\n",
              "      <td>-0.038991</td>\n",
              "      <td>-0.038178</td>\n",
              "      <td>-0.037010</td>\n",
              "      <td>-0.038540</td>\n",
              "      <td>-0.038076</td>\n",
              "      <td>-0.037606</td>\n",
              "      <td>-0.038132</td>\n",
              "      <td>-0.035900</td>\n",
              "    </tr>\n",
              "    <tr>\n",
              "      <th>...</th>\n",
              "      <td>...</td>\n",
              "      <td>...</td>\n",
              "      <td>...</td>\n",
              "      <td>...</td>\n",
              "      <td>...</td>\n",
              "      <td>...</td>\n",
              "      <td>...</td>\n",
              "      <td>...</td>\n",
              "      <td>...</td>\n",
              "      <td>...</td>\n",
              "      <td>...</td>\n",
              "      <td>...</td>\n",
              "      <td>...</td>\n",
              "      <td>...</td>\n",
              "      <td>...</td>\n",
              "      <td>...</td>\n",
              "      <td>...</td>\n",
              "      <td>...</td>\n",
              "      <td>...</td>\n",
              "      <td>...</td>\n",
              "      <td>...</td>\n",
              "    </tr>\n",
              "    <tr>\n",
              "      <th>350</th>\n",
              "      <td>1540456354404</td>\n",
              "      <td>-0.048929</td>\n",
              "      <td>-0.438802</td>\n",
              "      <td>1.870540</td>\n",
              "      <td>-0.089910</td>\n",
              "      <td>0.026243</td>\n",
              "      <td>0.046500</td>\n",
              "      <td>0.342797</td>\n",
              "      <td>-0.024736</td>\n",
              "      <td>0.087382</td>\n",
              "      <td>...</td>\n",
              "      <td>-0.037537</td>\n",
              "      <td>-0.036913</td>\n",
              "      <td>-0.038062</td>\n",
              "      <td>-0.037199</td>\n",
              "      <td>-0.035328</td>\n",
              "      <td>-0.037879</td>\n",
              "      <td>-0.037486</td>\n",
              "      <td>-0.036303</td>\n",
              "      <td>-0.036122</td>\n",
              "      <td>-0.033582</td>\n",
              "    </tr>\n",
              "    <tr>\n",
              "      <th>351</th>\n",
              "      <td>1540456354488</td>\n",
              "      <td>0.851907</td>\n",
              "      <td>-0.282855</td>\n",
              "      <td>-0.039069</td>\n",
              "      <td>-0.227483</td>\n",
              "      <td>-0.140185</td>\n",
              "      <td>0.055663</td>\n",
              "      <td>0.211854</td>\n",
              "      <td>-0.064256</td>\n",
              "      <td>0.039251</td>\n",
              "      <td>...</td>\n",
              "      <td>-0.036774</td>\n",
              "      <td>-0.036255</td>\n",
              "      <td>-0.037614</td>\n",
              "      <td>-0.037000</td>\n",
              "      <td>-0.035254</td>\n",
              "      <td>-0.037384</td>\n",
              "      <td>-0.036114</td>\n",
              "      <td>-0.035518</td>\n",
              "      <td>-0.035928</td>\n",
              "      <td>-0.035408</td>\n",
              "    </tr>\n",
              "    <tr>\n",
              "      <th>352</th>\n",
              "      <td>1540456354576</td>\n",
              "      <td>0.329255</td>\n",
              "      <td>-0.074950</td>\n",
              "      <td>0.074278</td>\n",
              "      <td>-0.053091</td>\n",
              "      <td>-0.073518</td>\n",
              "      <td>0.004167</td>\n",
              "      <td>0.393093</td>\n",
              "      <td>-0.051061</td>\n",
              "      <td>0.048273</td>\n",
              "      <td>...</td>\n",
              "      <td>-0.037064</td>\n",
              "      <td>-0.037087</td>\n",
              "      <td>-0.037948</td>\n",
              "      <td>-0.036972</td>\n",
              "      <td>-0.035591</td>\n",
              "      <td>-0.036524</td>\n",
              "      <td>-0.036691</td>\n",
              "      <td>-0.036766</td>\n",
              "      <td>-0.036246</td>\n",
              "      <td>-0.035039</td>\n",
              "    </tr>\n",
              "    <tr>\n",
              "      <th>353</th>\n",
              "      <td>1540456354660</td>\n",
              "      <td>0.330061</td>\n",
              "      <td>-0.260591</td>\n",
              "      <td>-0.020120</td>\n",
              "      <td>0.093793</td>\n",
              "      <td>0.100177</td>\n",
              "      <td>0.134214</td>\n",
              "      <td>0.319046</td>\n",
              "      <td>0.029385</td>\n",
              "      <td>0.033831</td>\n",
              "      <td>...</td>\n",
              "      <td>-0.036520</td>\n",
              "      <td>-0.036748</td>\n",
              "      <td>-0.037822</td>\n",
              "      <td>-0.036839</td>\n",
              "      <td>-0.035118</td>\n",
              "      <td>-0.037559</td>\n",
              "      <td>-0.036426</td>\n",
              "      <td>-0.036488</td>\n",
              "      <td>-0.036505</td>\n",
              "      <td>-0.034496</td>\n",
              "    </tr>\n",
              "    <tr>\n",
              "      <th>354</th>\n",
              "      <td>1540456354744</td>\n",
              "      <td>0.101879</td>\n",
              "      <td>-0.044056</td>\n",
              "      <td>-0.018367</td>\n",
              "      <td>0.052064</td>\n",
              "      <td>-0.184325</td>\n",
              "      <td>0.217345</td>\n",
              "      <td>0.319578</td>\n",
              "      <td>-0.109302</td>\n",
              "      <td>0.034795</td>\n",
              "      <td>...</td>\n",
              "      <td>-0.036704</td>\n",
              "      <td>-0.036247</td>\n",
              "      <td>-0.037451</td>\n",
              "      <td>-0.036805</td>\n",
              "      <td>-0.035636</td>\n",
              "      <td>-0.036897</td>\n",
              "      <td>-0.036027</td>\n",
              "      <td>-0.035583</td>\n",
              "      <td>-0.035322</td>\n",
              "      <td>-0.034725</td>\n",
              "    </tr>\n",
              "  </tbody>\n",
              "</table>\n",
              "<p>355 rows × 466 columns</p>\n",
              "</div>\n",
              "      <button class=\"colab-df-convert\" onclick=\"convertToInteractive('df-3adade23-583d-45c5-9aa6-4102402ed26e')\"\n",
              "              title=\"Convert this dataframe to an interactive table.\"\n",
              "              style=\"display:none;\">\n",
              "        \n",
              "  <svg xmlns=\"http://www.w3.org/2000/svg\" height=\"24px\"viewBox=\"0 0 24 24\"\n",
              "       width=\"24px\">\n",
              "    <path d=\"M0 0h24v24H0V0z\" fill=\"none\"/>\n",
              "    <path d=\"M18.56 5.44l.94 2.06.94-2.06 2.06-.94-2.06-.94-.94-2.06-.94 2.06-2.06.94zm-11 1L8.5 8.5l.94-2.06 2.06-.94-2.06-.94L8.5 2.5l-.94 2.06-2.06.94zm10 10l.94 2.06.94-2.06 2.06-.94-2.06-.94-.94-2.06-.94 2.06-2.06.94z\"/><path d=\"M17.41 7.96l-1.37-1.37c-.4-.4-.92-.59-1.43-.59-.52 0-1.04.2-1.43.59L10.3 9.45l-7.72 7.72c-.78.78-.78 2.05 0 2.83L4 21.41c.39.39.9.59 1.41.59.51 0 1.02-.2 1.41-.59l7.78-7.78 2.81-2.81c.8-.78.8-2.07 0-2.86zM5.41 20L4 18.59l7.72-7.72 1.47 1.35L5.41 20z\"/>\n",
              "  </svg>\n",
              "      </button>\n",
              "      \n",
              "  <style>\n",
              "    .colab-df-container {\n",
              "      display:flex;\n",
              "      flex-wrap:wrap;\n",
              "      gap: 12px;\n",
              "    }\n",
              "\n",
              "    .colab-df-convert {\n",
              "      background-color: #E8F0FE;\n",
              "      border: none;\n",
              "      border-radius: 50%;\n",
              "      cursor: pointer;\n",
              "      display: none;\n",
              "      fill: #1967D2;\n",
              "      height: 32px;\n",
              "      padding: 0 0 0 0;\n",
              "      width: 32px;\n",
              "    }\n",
              "\n",
              "    .colab-df-convert:hover {\n",
              "      background-color: #E2EBFA;\n",
              "      box-shadow: 0px 1px 2px rgba(60, 64, 67, 0.3), 0px 1px 3px 1px rgba(60, 64, 67, 0.15);\n",
              "      fill: #174EA6;\n",
              "    }\n",
              "\n",
              "    [theme=dark] .colab-df-convert {\n",
              "      background-color: #3B4455;\n",
              "      fill: #D2E3FC;\n",
              "    }\n",
              "\n",
              "    [theme=dark] .colab-df-convert:hover {\n",
              "      background-color: #434B5C;\n",
              "      box-shadow: 0px 1px 3px 1px rgba(0, 0, 0, 0.15);\n",
              "      filter: drop-shadow(0px 1px 2px rgba(0, 0, 0, 0.3));\n",
              "      fill: #FFFFFF;\n",
              "    }\n",
              "  </style>\n",
              "\n",
              "      <script>\n",
              "        const buttonEl =\n",
              "          document.querySelector('#df-3adade23-583d-45c5-9aa6-4102402ed26e button.colab-df-convert');\n",
              "        buttonEl.style.display =\n",
              "          google.colab.kernel.accessAllowed ? 'block' : 'none';\n",
              "\n",
              "        async function convertToInteractive(key) {\n",
              "          const element = document.querySelector('#df-3adade23-583d-45c5-9aa6-4102402ed26e');\n",
              "          const dataTable =\n",
              "            await google.colab.kernel.invokeFunction('convertToInteractive',\n",
              "                                                     [key], {});\n",
              "          if (!dataTable) return;\n",
              "\n",
              "          const docLinkHtml = 'Like what you see? Visit the ' +\n",
              "            '<a target=\"_blank\" href=https://colab.research.google.com/notebooks/data_table.ipynb>data table notebook</a>'\n",
              "            + ' to learn more about interactive tables.';\n",
              "          element.innerHTML = '';\n",
              "          dataTable['output_type'] = 'display_data';\n",
              "          await google.colab.output.renderOutput(dataTable, element);\n",
              "          const docLink = document.createElement('div');\n",
              "          docLink.innerHTML = docLinkHtml;\n",
              "          element.appendChild(docLink);\n",
              "        }\n",
              "      </script>\n",
              "    </div>\n",
              "  </div>\n",
              "  "
            ]
          },
          "metadata": {},
          "execution_count": 40
        }
      ]
    },
    {
      "cell_type": "markdown",
      "source": [
        "CT-1.3:"
      ],
      "metadata": {
        "id": "v6anAFzGk1ib"
      }
    },
    {
      "cell_type": "code",
      "source": [
        "integer_df2 = df2.iloc[:,2:]\n",
        "column_names2 = integer_df2.columns.tolist()\n",
        "new_column_names2 = []\n",
        "i = 0\n",
        "while i < len(column_names2):\n",
        "  new_column_names2.append(int(float(column_names2[i])))\n",
        "  i += 1\n",
        "integer_df2.columns = new_column_names\n",
        "reduced_df2 = integer_df2.groupby(integer_df2.columns, axis=1).mean()\n",
        "reduced_df_2nm = pd.DataFrame({})\n",
        "a = 0\n",
        "while a < len(reduced_df2.columns):\n",
        "  reduced_df_2nm[reduced_df2.columns[a]] = reduced_df2.iloc[:,a]\n",
        "  a += 2 #this number gives the nm steps\n",
        "reduced_df_2nm.insert(0, 'time', df2['Unnamed: 1'])"
      ],
      "metadata": {
        "id": "dLqgyvXSsFsI"
      },
      "execution_count": null,
      "outputs": []
    },
    {
      "cell_type": "code",
      "source": [
        "reduced_df_4nm = pd.DataFrame({})\n",
        "a = 0\n",
        "while a < len(reduced_df2.columns):\n",
        "  reduced_df_4nm[reduced_df2.columns[a]] = reduced_df2.iloc[:,a]\n",
        "  a += 4 #this number gives the nm steps\n",
        "reduced_df_4nm.insert(0, 'time', df2['Unnamed: 1'])"
      ],
      "metadata": {
        "id": "1rza2xQD3wUr"
      },
      "execution_count": null,
      "outputs": []
    },
    {
      "cell_type": "markdown",
      "source": [
        "CT-1.4:"
      ],
      "metadata": {
        "id": "QJeqjKBCMeV3"
      }
    },
    {
      "cell_type": "code",
      "source": [
        "%%timeit\n",
        "with open('reduced_file_loop.txt', 'w') as rf:\n",
        "  for column in reduced_df.columns:\n",
        "    rf.write(column)\n",
        "    rf.write('\\t')\n",
        "  rf.write('\\n')\n",
        "  row = 0    \n",
        "  while row < 355:\n",
        "      rf.write(\"\\t\".join(reduced_df.iloc[row,:].values.astype(str)))\n",
        "      rf.write('\\n')\n",
        "      row += 1"
      ],
      "metadata": {
        "id": "-tJpzSjd1XBe",
        "colab": {
          "base_uri": "https://localhost:8080/",
          "height": 0
        },
        "outputId": "0847eaeb-7284-4fd8-f390-83c8060e47ed"
      },
      "execution_count": 41,
      "outputs": [
        {
          "output_type": "stream",
          "name": "stdout",
          "text": [
            "299 ms ± 6.31 ms per loop (mean ± std. dev. of 7 runs, 1 loop each)\n"
          ]
        }
      ]
    },
    {
      "cell_type": "code",
      "source": [
        "%%timeit\n",
        "reduced_df.to_csv(r'reduced_dataset.txt', sep='\\t', index= FALSE)"
      ],
      "metadata": {
        "id": "2z1CSkQORTMf",
        "colab": {
          "base_uri": "https://localhost:8080/",
          "height": 0
        },
        "outputId": "9c112ff1-b52a-4a02-ce12-ade2c5272989"
      },
      "execution_count": 43,
      "outputs": [
        {
          "output_type": "stream",
          "name": "stdout",
          "text": [
            "184 ms ± 28.2 ms per loop (mean ± std. dev. of 7 runs, 10 loops each)\n"
          ]
        }
      ]
    },
    {
      "cell_type": "markdown",
      "source": [
        "CT-1.5:"
      ],
      "metadata": {
        "id": "LP8hL8JMmnHg"
      }
    },
    {
      "cell_type": "code",
      "source": [
        "wavelength1 = int(input())\n",
        "wavelength2 = int(input())  #takes two wavelengths as input\n",
        "values_wl1 = reduced_df.iloc[:,wavelength1-315]\n",
        "values_wl2 = reduced_df.iloc[:,wavelength2-315]\n",
        "if wavelength1 > 780 or wavelength1 < 316 or wavelength2 > 780 or wavelength2 < 316:\n",
        "  print('Both numbers must be in range from 316-780')\n",
        "else:\n",
        "  if wavelength1 > wavelength2:\n",
        "    y_values = values_wl1-values_wl2  #gives difference of both wavelengths\n",
        "    x_values = reduced_df.iloc[:,0] - reduced_df.iloc[0,0] #gives time in miliseconds\n",
        "    plt.plot(x_values, y_values)\n",
        "  elif wavelength2 > wavelength1:\n",
        "    y_values = values_wl2-values_wl1\n",
        "    x_values = reduced_df.iloc[:,0] - reduced_df.iloc[0,0] #gives time in miliseconds\n",
        "    plt.plot(x_values, y_values)\n",
        "  else: \n",
        "    print('The two numbers should be different')"
      ],
      "metadata": {
        "colab": {
          "base_uri": "https://localhost:8080/",
          "height": 300
        },
        "id": "-Qzn9Je1mrNL",
        "outputId": "9df1aa03-e7ba-43b2-ab68-22a9fe5ec399"
      },
      "execution_count": 47,
      "outputs": [
        {
          "name": "stdout",
          "output_type": "stream",
          "text": [
            "570\n",
            "550\n"
          ]
        },
        {
          "output_type": "display_data",
          "data": {
            "text/plain": [
              "<Figure size 432x288 with 1 Axes>"
            ],
            "image/png": "[encoded data removed]"
          },
          "metadata": {
            "needs_background": "light"
          }
        }
      ]
    },
    {
      "cell_type": "markdown",
      "source": [
        "CT-1.6:"
      ],
      "metadata": {
        "id": "9rM2mJ075RJf"
      }
    },
    {
      "cell_type": "code",
      "source": [
        "x_val_sec = x_values / 1000 #time in seconds\n",
        "plt.plot(x_val_sec, y_values, 'r', label= 'difference')\n",
        "plt.xlabel(\"time [s]\")\n",
        "plt.ylabel(\"data\")\n",
        "plt.title('Difference of two wavenumbers over time')\n",
        "plt.legend()\n",
        "plt.savefig('CCD-Data_plot.png')\n",
        "plt.show()"
      ],
      "metadata": {
        "colab": {
          "base_uri": "https://localhost:8080/",
          "height": 295
        },
        "id": "o1j-aYff5Tk4",
        "outputId": "6d4073ae-1dc1-4802-d994-36b9f073aecc"
      },
      "execution_count": 48,
      "outputs": [
        {
          "output_type": "display_data",
          "data": {
            "text/plain": [
              "<Figure size 432x288 with 1 Axes>"
            ],
            "image/png": "[encoded data removed]"
          },
          "metadata": {
            "needs_background": "light"
          }
        }
      ]
    },
    {
      "cell_type": "markdown",
      "source": [
        "CT-1.7:"
      ],
      "metadata": {
        "id": "wPp7ttqQLDol"
      }
    },
    {
      "cell_type": "code",
      "source": [
        "a = list(df2.columns[2:])\n",
        "x_full = [eval(i) for i in a]\n",
        "y_full = list(df2.iloc[80,2:])\n",
        "\n",
        "b = list(reduced_df.columns[1:])\n",
        "x_1nm = [eval(i) for i in b]\n",
        "y_1nm = list(reduced_df.iloc[80,1:])\n",
        "\n",
        "plt.plot(x_full, y_full, 'b', label='full dataset')\n",
        "plt.plot(x_1nm, y_1nm, 'r', label='reduced dataset (1nm)')\n",
        "plt.xlabel('wavelength [nm]')\n",
        "plt.ylabel('data')\n",
        "plt.title('comparison of full and some reduced datasets')\n",
        "plt.legend()\n",
        "plt.show()"
      ],
      "metadata": {
        "colab": {
          "base_uri": "https://localhost:8080/",
          "height": 295
        },
        "id": "kQMrh4KBWR2x",
        "outputId": "1af9a762-39e4-4436-b96f-eb2247e3cd99"
      },
      "execution_count": 86,
      "outputs": [
        {
          "output_type": "display_data",
          "data": {
            "text/plain": [
              "<Figure size 432x288 with 1 Axes>"
            ],
            "image/png": "[encoded data removed]"
          },
          "metadata": {
            "needs_background": "light"
          }
        }
      ]
    },
    {
      "cell_type": "markdown",
      "source": [
        "It is visible that the more reduced the dataset, the smaller the fluctuations of the function (especially in region 300-400 nm). Beside that the functions look very similar. A resolution as high as the full dataset is therefore not absolutely necessary. The course of the curve ist still the same."
      ],
      "metadata": {
        "id": "nykoUea54UfS"
      }
    }
  ]
}