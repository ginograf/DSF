{
  "cells": [
    {
      "cell_type": "markdown",
      "metadata": {
        "id": "view-in-github",
        "colab_type": "text"
      },
      "source": [
        "<a href=\"https://colab.research.google.com/github/ginograf/DSF/blob/main/Kopie_von_06_Numpy_indexing.ipynb\" target=\"_parent\"><img src=\"https://colab.research.google.com/assets/colab-badge.svg\" alt=\"Open In Colab\"/></a>"
      ]
    },
    {
      "cell_type": "markdown",
      "metadata": {
        "id": "ru7mNBPPCjqV"
      },
      "source": [
        "# 6. Numpy indexing\n",
        "\n",
        "Often we need to extract some information from a Pandas DataFrame. Here also, Pandas inherits many of the approaches used in Numpy. Therefore we start here by very briefly showing how to proceed with plain arrays before looking at the more complex DataFrames.\n",
        "\n",
        "Note that Numpy indexing is very powerful and that we cover here only a tiny fraction of this topic. To learn more you can for example the [Numpy reference](https://numpy.org/doc/stable/reference/arrays.indexing.html#indexing)."
      ]
    },
    {
      "cell_type": "code",
      "execution_count": null,
      "metadata": {
        "id": "ztwtLIbJDpYx"
      },
      "outputs": [],
      "source": [
        "import numpy as np"
      ]
    },
    {
      "cell_type": "markdown",
      "metadata": {
        "id": "3tMa2-cXDqaA"
      },
      "source": [
        "We first create an array:"
      ]
    },
    {
      "cell_type": "code",
      "execution_count": null,
      "metadata": {
        "id": "ZsaO3RdIDuMa",
        "colab": {
          "base_uri": "https://localhost:8080/"
        },
        "outputId": "b9bb165d-329f-4f4f-dcbf-52a3fe395aa0"
      },
      "outputs": [
        {
          "output_type": "execute_result",
          "data": {
            "text/plain": [
              "array([ 0.84034799, -0.14770247, -0.64866177,  0.31024142, -0.06807238,\n",
              "        0.86359327, -0.04912423, -0.3140014 , -0.4519827 , -0.17322607])"
            ]
          },
          "metadata": {},
          "execution_count": 2
        }
      ],
      "source": [
        "my_array = np.random.normal(size=10)\n",
        "my_array"
      ]
    },
    {
      "cell_type": "markdown",
      "metadata": {
        "id": "y5-My76iDyCb"
      },
      "source": [
        "## Extracting and setting elements\n",
        "\n",
        "The standard way to extract information from an array is to used the square parenthesis (bracket) notation. If we want for example to extract the second element of the array we write:\n",
        "\n"
      ]
    },
    {
      "cell_type": "code",
      "execution_count": null,
      "metadata": {
        "id": "9uxQWL_jEAXH",
        "colab": {
          "base_uri": "https://localhost:8080/"
        },
        "outputId": "d063eb82-9c3b-4bbd-87c0-5a7608754ac4"
      },
      "outputs": [
        {
          "output_type": "execute_result",
          "data": {
            "text/plain": [
              "-0.1477024721351171"
            ]
          },
          "metadata": {},
          "execution_count": 3
        }
      ],
      "source": [
        "my_array[1]"
      ]
    },
    {
      "cell_type": "markdown",
      "metadata": {
        "id": "IOoZtvSiEDw8"
      },
      "source": [
        "Remember that **we start counting from 0** in Python, which is why the *second* element has index 1.\n",
        "\n",
        "We can extend the notation and extract a range of elements by using the ```from_index:to_index (excluded)``` notation. Here ```excluded``` means that the **last index** specified is **not included**. For example if we want to recover elements with indices from 1 to 3 we write:"
      ]
    },
    {
      "cell_type": "code",
      "execution_count": null,
      "metadata": {
        "id": "4tCNuBLpELzd",
        "colab": {
          "base_uri": "https://localhost:8080/"
        },
        "outputId": "5bbf89ba-b1bd-416e-b3ab-466fb0e271d9"
      },
      "outputs": [
        {
          "output_type": "execute_result",
          "data": {
            "text/plain": [
              "array([-0.14770247, -0.64866177,  0.31024142])"
            ]
          },
          "metadata": {},
          "execution_count": 4
        }
      ],
      "source": [
        "my_array[1:4]"
      ]
    },
    {
      "cell_type": "markdown",
      "metadata": {
        "id": "YXCwO49SEvmh"
      },
      "source": [
        "We can also set values in the array in the same maner. For example let's set the above elements to 10:"
      ]
    },
    {
      "cell_type": "code",
      "execution_count": null,
      "metadata": {
        "id": "R-cldFxDE-3o"
      },
      "outputs": [],
      "source": [
        "my_array[1:4] = 10"
      ]
    },
    {
      "cell_type": "code",
      "execution_count": null,
      "metadata": {
        "id": "YzyfJV6wFFSa",
        "colab": {
          "base_uri": "https://localhost:8080/"
        },
        "outputId": "c1a5d343-9319-485b-f434-b16aed72d53f"
      },
      "outputs": [
        {
          "output_type": "execute_result",
          "data": {
            "text/plain": [
              "array([ 0.84034799, 10.        , 10.        , 10.        , -0.06807238,\n",
              "        0.86359327, -0.04912423, -0.3140014 , -0.4519827 , -0.17322607])"
            ]
          },
          "metadata": {},
          "execution_count": 6
        }
      ],
      "source": [
        "my_array"
      ]
    },
    {
      "cell_type": "markdown",
      "metadata": {
        "id": "wTC1zc6Kcue_"
      },
      "source": [
        "Note that you can sometimes simplify the notation. For example if you want to extract all elements from the 4th one **to the last one**, you don't have to specify the last index, you can simply replace it by ```:```:\n"
      ]
    },
    {
      "cell_type": "code",
      "execution_count": null,
      "metadata": {
        "id": "3Wh8TLBOdS1f",
        "colab": {
          "base_uri": "https://localhost:8080/"
        },
        "outputId": "283df43a-3414-421a-fa16-dd31d5f2c4da"
      },
      "outputs": [
        {
          "output_type": "execute_result",
          "data": {
            "text/plain": [
              "array([-0.06807238,  0.86359327, -0.04912423, -0.3140014 , -0.4519827 ,\n",
              "       -0.17322607])"
            ]
          },
          "metadata": {},
          "execution_count": 7
        }
      ],
      "source": [
        "my_array[4::]"
      ]
    },
    {
      "cell_type": "markdown",
      "metadata": {
        "id": "LkdwCr_Ydcdm"
      },
      "source": [
        "## Higher dimensions\n",
        "\n",
        "We have seen before that we can create arrays with more than one dimension (think e.g. of the pixels of an image). For example:"
      ]
    },
    {
      "cell_type": "code",
      "execution_count": null,
      "metadata": {
        "id": "wnDoPx6KdnVr",
        "colab": {
          "base_uri": "https://localhost:8080/"
        },
        "outputId": "2f895842-0cd1-49ee-cb08-2856ba5e0a15"
      },
      "outputs": [
        {
          "output_type": "execute_result",
          "data": {
            "text/plain": [
              "array([[ 0.45250907,  0.65094024,  0.32965734, -0.04671092, -0.14715702],\n",
              "       [-0.3774775 ,  0.66122275,  0.30652741,  0.23611321, -1.14822501],\n",
              "       [ 0.45555371,  0.78441236,  1.0979493 , -0.15775314,  0.69399237]])"
            ]
          },
          "metadata": {},
          "execution_count": 8
        }
      ],
      "source": [
        "array2D = np.random.normal(size=(3,5))\n",
        "array2D"
      ]
    },
    {
      "cell_type": "markdown",
      "metadata": {
        "id": "fvh9-Y1UdsiZ"
      },
      "source": [
        "The indexing system works in the same way here. We just have to specify now for each dimension which rows/columns we want to extract with ```my_array[start_row:end_row, start_column:end_column]```:"
      ]
    },
    {
      "cell_type": "code",
      "execution_count": null,
      "metadata": {
        "id": "PwEp-hwKeBXy",
        "colab": {
          "base_uri": "https://localhost:8080/"
        },
        "outputId": "3bc5c526-585f-42c9-d5b7-5d4889c65a05"
      },
      "outputs": [
        {
          "output_type": "execute_result",
          "data": {
            "text/plain": [
              "array([[-0.3774775 ,  0.66122275],\n",
              "       [ 0.45555371,  0.78441236]])"
            ]
          },
          "metadata": {},
          "execution_count": 9
        }
      ],
      "source": [
        "array2D[1:3, 0:2]"
      ]
    },
    {
      "cell_type": "markdown",
      "metadata": {
        "id": "Il56KE3VeIaB"
      },
      "source": [
        "Here again, we can simplify the notation. If we want to select a few rows but **want to keep all columns**, we can again use the ```:``` notation like this:"
      ]
    },
    {
      "cell_type": "code",
      "execution_count": null,
      "metadata": {
        "id": "2SnaezpQeTGq",
        "colab": {
          "base_uri": "https://localhost:8080/"
        },
        "outputId": "af786450-a492-4a6b-ecba-38bb76c492f5"
      },
      "outputs": [
        {
          "output_type": "execute_result",
          "data": {
            "text/plain": [
              "array([[-0.3774775 ,  0.66122275,  0.30652741,  0.23611321, -1.14822501],\n",
              "       [ 0.45555371,  0.78441236,  1.0979493 , -0.15775314,  0.69399237]])"
            ]
          },
          "metadata": {},
          "execution_count": 10
        }
      ],
      "source": [
        "array2D[1:3, :]"
      ]
    },
    {
      "cell_type": "markdown",
      "metadata": {
        "id": "FsqskNXsFGTG"
      },
      "source": [
        "## Working with sub-parts\n",
        "\n",
        "Using indexing, we can also create a smaller array that we want to work on specifically. For example let's say we are only interested in the 6th to 8th element. We can **extract** it and **asign** it to a new array:"
      ]
    },
    {
      "cell_type": "code",
      "execution_count": null,
      "metadata": {
        "id": "vtuQhL9EFt08"
      },
      "outputs": [],
      "source": [
        "sub_array = my_array[7:10]"
      ]
    },
    {
      "cell_type": "code",
      "execution_count": null,
      "metadata": {
        "id": "Wa9qPa0nFzUW",
        "colab": {
          "base_uri": "https://localhost:8080/"
        },
        "outputId": "3da0d81d-3c19-40cd-9ee8-852eef0667c1"
      },
      "outputs": [
        {
          "output_type": "execute_result",
          "data": {
            "text/plain": [
              "array([ 0.84034799, 10.        , 10.        , 10.        , -0.06807238,\n",
              "        0.86359327, -0.04912423, -0.3140014 , -0.4519827 , -0.17322607])"
            ]
          },
          "metadata": {},
          "execution_count": 12
        }
      ],
      "source": [
        "my_array"
      ]
    },
    {
      "cell_type": "code",
      "execution_count": null,
      "metadata": {
        "id": "vInkaepAF0zc",
        "colab": {
          "base_uri": "https://localhost:8080/"
        },
        "outputId": "1d4950a0-89bb-414d-bdd6-c080a252615c"
      },
      "outputs": [
        {
          "output_type": "execute_result",
          "data": {
            "text/plain": [
              "array([-0.3140014 , -0.4519827 , -0.17322607])"
            ]
          },
          "metadata": {},
          "execution_count": 13
        }
      ],
      "source": [
        "sub_array"
      ]
    },
    {
      "cell_type": "markdown",
      "metadata": {
        "id": "0PjKXuSYF1iX"
      },
      "source": [
        "Let's now modify an element of this subarray:"
      ]
    },
    {
      "cell_type": "code",
      "execution_count": null,
      "metadata": {
        "id": "-cTrdqfMF_Em"
      },
      "outputs": [],
      "source": [
        "sub_array[0] = 100"
      ]
    },
    {
      "cell_type": "markdown",
      "metadata": {
        "id": "5BSrHqHWGCh5"
      },
      "source": [
        "Let's check that ```sub_array``` has indeed changed:"
      ]
    },
    {
      "cell_type": "code",
      "execution_count": null,
      "metadata": {
        "id": "lF7FFdYtGDKa",
        "colab": {
          "base_uri": "https://localhost:8080/"
        },
        "outputId": "d8376ccc-c8b1-43a4-ac94-ba152ce3e6ba"
      },
      "outputs": [
        {
          "output_type": "execute_result",
          "data": {
            "text/plain": [
              "array([100.        ,  -0.4519827 ,  -0.17322607])"
            ]
          },
          "metadata": {},
          "execution_count": 15
        }
      ],
      "source": [
        "sub_array"
      ]
    },
    {
      "cell_type": "markdown",
      "metadata": {
        "id": "BQOPc1caGKOh"
      },
      "source": [
        "Let's now also have a look at the original array:"
      ]
    },
    {
      "cell_type": "code",
      "execution_count": null,
      "metadata": {
        "id": "ZYZMwqPAGN8q",
        "colab": {
          "base_uri": "https://localhost:8080/"
        },
        "outputId": "0023c9bb-2d2c-442d-e60b-c3ecf54a6eea"
      },
      "outputs": [
        {
          "output_type": "execute_result",
          "data": {
            "text/plain": [
              "array([ 8.40347995e-01,  1.00000000e+01,  1.00000000e+01,  1.00000000e+01,\n",
              "       -6.80723825e-02,  8.63593266e-01, -4.91242251e-02,  1.00000000e+02,\n",
              "       -4.51982705e-01, -1.73226073e-01])"
            ]
          },
          "metadata": {},
          "execution_count": 16
        }
      ],
      "source": [
        "my_array"
      ]
    },
    {
      "cell_type": "markdown",
      "metadata": {
        "id": "kEN5DCn4G1f5"
      },
      "source": [
        "**The value in the original array has changed too!**. The reason is that the slicing of the array **does not create an independent sub-array**. It is still linked to the original one. Depending on the types of modification, you might or might not encounter this problem. To be on the safe side, explicitely create a **copy** when creating a sub-array. Like that it will be independent from the original one: "
      ]
    },
    {
      "cell_type": "code",
      "execution_count": null,
      "metadata": {
        "id": "6P_wV4hhHtnv"
      },
      "outputs": [],
      "source": [
        "sub_array = my_array[7:10].copy()\n",
        "sub_array[0] = 200"
      ]
    },
    {
      "cell_type": "code",
      "execution_count": null,
      "metadata": {
        "id": "wG92XXlvHzFM",
        "colab": {
          "base_uri": "https://localhost:8080/"
        },
        "outputId": "f1bcb630-1f82-4f6a-bd25-e0496371ae96"
      },
      "outputs": [
        {
          "output_type": "execute_result",
          "data": {
            "text/plain": [
              "array([ 2.00000000e+02, -4.51982705e-01, -1.73226073e-01])"
            ]
          },
          "metadata": {},
          "execution_count": 18
        }
      ],
      "source": [
        "sub_array"
      ]
    },
    {
      "cell_type": "code",
      "execution_count": null,
      "metadata": {
        "id": "Z5-I7hv-H1Ec",
        "colab": {
          "base_uri": "https://localhost:8080/"
        },
        "outputId": "b85353d3-432d-45ff-ae51-f8c77d10890d"
      },
      "outputs": [
        {
          "output_type": "execute_result",
          "data": {
            "text/plain": [
              "array([ 8.40347995e-01,  1.00000000e+01,  1.00000000e+01,  1.00000000e+01,\n",
              "       -6.80723825e-02,  8.63593266e-01, -4.91242251e-02,  1.00000000e+02,\n",
              "       -4.51982705e-01, -1.73226073e-01])"
            ]
          },
          "metadata": {},
          "execution_count": 19
        }
      ],
      "source": [
        "my_array"
      ]
    },
    {
      "cell_type": "markdown",
      "metadata": {
        "id": "TFHwK8F1H226"
      },
      "source": [
        "## Boolean indexing\n",
        "\n",
        "Instead of using numerical indices to extract values from the array, we can also select them by some criteria. Let's create a new random array:"
      ]
    },
    {
      "cell_type": "code",
      "execution_count": null,
      "metadata": {
        "id": "ctxI87WvI1Fo",
        "colab": {
          "base_uri": "https://localhost:8080/"
        },
        "outputId": "8ef1c4e0-392f-421d-8e84-8c6d3ef82286"
      },
      "outputs": [
        {
          "output_type": "execute_result",
          "data": {
            "text/plain": [
              "array([-0.46944155, -0.97408856, -0.72982499,  1.36930817, -0.20140448,\n",
              "       -0.27586482, -1.44885697, -0.10778332, -0.56619387,  0.57737547])"
            ]
          },
          "metadata": {},
          "execution_count": 20
        }
      ],
      "source": [
        "my_array2 = np.random.normal(size=10)\n",
        "my_array2"
      ]
    },
    {
      "cell_type": "markdown",
      "metadata": {
        "id": "4VXv0N-fI3E_"
      },
      "source": [
        "How to proceed now if we for example only want to recover the elements that are larger than 0 ?\n",
        "\n",
        "Let's try to see what happens when we just write it down as we would in regular mathemetics:"
      ]
    },
    {
      "cell_type": "code",
      "execution_count": null,
      "metadata": {
        "id": "u6H3C4dYJC-L",
        "colab": {
          "base_uri": "https://localhost:8080/"
        },
        "outputId": "0a8ccfec-145a-4e7d-93c1-146595391504"
      },
      "outputs": [
        {
          "output_type": "execute_result",
          "data": {
            "text/plain": [
              "array([False, False, False,  True, False, False, False, False, False,\n",
              "        True])"
            ]
          },
          "metadata": {},
          "execution_count": 21
        }
      ],
      "source": [
        "my_array2 > 0"
      ]
    },
    {
      "cell_type": "markdown",
      "metadata": {
        "id": "NtLOoe6gJETg"
      },
      "source": [
        "We see that the output is again an array, but instead of being filled with numbers, it contains only ```False``` and ```True```. Those values also exist in plain Python and are called booleans. For example:"
      ]
    },
    {
      "cell_type": "code",
      "execution_count": null,
      "metadata": {
        "id": "QpUEST9aJSu_",
        "colab": {
          "base_uri": "https://localhost:8080/"
        },
        "outputId": "85da36c3-de66-43f3-961e-9d38bfa14c33"
      },
      "outputs": [
        {
          "output_type": "execute_result",
          "data": {
            "text/plain": [
              "False"
            ]
          },
          "metadata": {},
          "execution_count": 22
        }
      ],
      "source": [
        "a = 3\n",
        "a > 10"
      ]
    },
    {
      "cell_type": "markdown",
      "metadata": {
        "id": "DaMRX9Ohn8RS"
      },
      "source": [
        "We can now create an actual boolean array:"
      ]
    },
    {
      "cell_type": "code",
      "execution_count": null,
      "metadata": {
        "id": "YE__BOshn_7o",
        "colab": {
          "base_uri": "https://localhost:8080/"
        },
        "outputId": "fc8f482b-ff3e-4f93-f7a3-d7f4d56fc466"
      },
      "outputs": [
        {
          "output_type": "execute_result",
          "data": {
            "text/plain": [
              "array([False, False, False,  True, False, False, False, False, False,\n",
              "        True])"
            ]
          },
          "metadata": {},
          "execution_count": 23
        }
      ],
      "source": [
        "bool_array = my_array2 > 0\n",
        "bool_array"
      ]
    },
    {
      "cell_type": "markdown",
      "metadata": {
        "id": "IzUBMbwKJ9nn"
      },
      "source": [
        "We can now use this **boolean array** ```bool_array``` to extract values from any array of the same size. Imagine that you superpose ```bool_array``` to another array ```value_array``` and only select those values in ```value_array``` which are ```True``` in ```bool_array```. Naturally we can do this with the original array itself. Instead of passing and index ```my_array[i]``` we pass the entire ```bool_array```:"
      ]
    },
    {
      "cell_type": "code",
      "execution_count": null,
      "metadata": {
        "id": "RmxTMOrXhFR4",
        "colab": {
          "base_uri": "https://localhost:8080/",
          "height": 516
        },
        "outputId": "586f8697-7e9e-48d2-f4e5-fff149af4978"
      },
      "outputs": [
        {
          "output_type": "execute_result",
          "data": {
            "text/html": [
              "<img src=\"https://github.com/guiwitz/ISDAwPython_day2/raw/master/images/logical_indexing.jpeg\" width=\"700\"/>"
            ],
            "text/plain": [
              "<IPython.core.display.Image object>"
            ]
          },
          "metadata": {},
          "execution_count": 24
        }
      ],
      "source": [
        "from IPython.display import Image\n",
        "Image(url='https://github.com/guiwitz/ISDAwPython_day2/raw/master/images/logical_indexing.jpeg',width=700)"
      ]
    },
    {
      "cell_type": "code",
      "execution_count": null,
      "metadata": {
        "id": "QWd_e2UgnjLK",
        "colab": {
          "base_uri": "https://localhost:8080/"
        },
        "outputId": "e67141e5-1d20-45d5-80ca-e1deabd5f73d"
      },
      "outputs": [
        {
          "output_type": "execute_result",
          "data": {
            "text/plain": [
              "array([1.36930817, 0.57737547])"
            ]
          },
          "metadata": {},
          "execution_count": 25
        }
      ],
      "source": [
        "my_array2[bool_array] "
      ]
    },
    {
      "cell_type": "markdown",
      "metadata": {
        "id": "nCG4JCdQoEHw"
      },
      "source": [
        "Naturally this output array is much smaller than the original one as it only contains the values larger than 0."
      ]
    },
    {
      "cell_type": "markdown",
      "metadata": {
        "id": "BqxVdXevoLox"
      },
      "source": [
        "## Exercise\n",
        "\n",
        "1. Create a numpy array with values from 0 to 10 in steps of 0.5\n",
        "2. Extract the the last three elements of the array using slicing.\n",
        "3. Apply a cosine function to the full array created in (1.) and store the output in a new array.\n",
        "4. Create a boolean array telling which values in the array from (3.) are smaller than 0.\n",
        "5. Recover only those values in a new array via indexing."
      ]
    },
    {
      "cell_type": "code",
      "execution_count": null,
      "metadata": {
        "id": "4NkEfp57mw8R",
        "colab": {
          "base_uri": "https://localhost:8080/"
        },
        "outputId": "dc5a87e9-082c-4873-c464-13fd4b701b8e"
      },
      "outputs": [
        {
          "output_type": "execute_result",
          "data": {
            "text/plain": [
              "array([0. , 0.5, 1. , 1.5, 2. , 2.5, 3. , 3.5, 4. , 4.5, 5. , 5.5, 6. ,\n",
              "       6.5, 7. , 7.5, 8. , 8.5, 9. , 9.5])"
            ]
          },
          "metadata": {},
          "execution_count": 2
        }
      ],
      "source": [
        "import numpy as np\n",
        "array = np.arange(0, 10, 0.5)\n",
        "array"
      ]
    },
    {
      "cell_type": "code",
      "source": [
        "last_three_elements = array[17::]\n",
        "last_three_elements"
      ],
      "metadata": {
        "id": "L7F6cSBvvZNs",
        "colab": {
          "base_uri": "https://localhost:8080/"
        },
        "outputId": "ddd84867-80e7-466b-de65-7f697df82276"
      },
      "execution_count": null,
      "outputs": [
        {
          "output_type": "execute_result",
          "data": {
            "text/plain": [
              "array([8.5, 9. , 9.5])"
            ]
          },
          "metadata": {},
          "execution_count": 5
        }
      ]
    },
    {
      "cell_type": "code",
      "source": [
        "cosinefunction_array = np.cos(array)\n",
        "cosinefunction_array"
      ],
      "metadata": {
        "colab": {
          "base_uri": "https://localhost:8080/"
        },
        "id": "FZ8U7LA6SzdS",
        "outputId": "ad312b68-a3b0-425d-e512-b00078d5ea73"
      },
      "execution_count": null,
      "outputs": [
        {
          "output_type": "execute_result",
          "data": {
            "text/plain": [
              "array([ 1.        ,  0.87758256,  0.54030231,  0.0707372 , -0.41614684,\n",
              "       -0.80114362, -0.9899925 , -0.93645669, -0.65364362, -0.2107958 ,\n",
              "        0.28366219,  0.70866977,  0.96017029,  0.97658763,  0.75390225,\n",
              "        0.34663532, -0.14550003, -0.6020119 , -0.91113026, -0.99717216])"
            ]
          },
          "metadata": {},
          "execution_count": 7
        }
      ]
    },
    {
      "cell_type": "code",
      "source": [
        "boolean_array = cosinefunction_array < 0\n",
        "boolean_array"
      ],
      "metadata": {
        "colab": {
          "base_uri": "https://localhost:8080/"
        },
        "id": "6Kf8d2FZU5jS",
        "outputId": "0b2facd1-8d56-43c2-9e09-cabe10f870cd"
      },
      "execution_count": null,
      "outputs": [
        {
          "output_type": "execute_result",
          "data": {
            "text/plain": [
              "array([False, False, False, False,  True,  True,  True,  True,  True,\n",
              "        True, False, False, False, False, False, False,  True,  True,\n",
              "        True,  True])"
            ]
          },
          "metadata": {},
          "execution_count": 9
        }
      ]
    },
    {
      "cell_type": "code",
      "source": [
        " array_smaller_zero = cosinefunction_array[boolean_array]\n",
        " array_smaller_zero"
      ],
      "metadata": {
        "colab": {
          "base_uri": "https://localhost:8080/"
        },
        "id": "ZS-l01LFYpPh",
        "outputId": "1e042692-8c68-48e8-fb26-36e0d4cadad3"
      },
      "execution_count": null,
      "outputs": [
        {
          "output_type": "execute_result",
          "data": {
            "text/plain": [
              "array([-0.41614684, -0.80114362, -0.9899925 , -0.93645669, -0.65364362,\n",
              "       -0.2107958 , -0.14550003, -0.6020119 , -0.91113026, -0.99717216])"
            ]
          },
          "metadata": {},
          "execution_count": 10
        }
      ]
    },
    {
      "cell_type": "markdown",
      "source": [
        "How can an element be added to an existing numpy array without creating a new array?"
      ],
      "metadata": {
        "id": "rZiKkpYXAlwY"
      }
    }
  ],
  "metadata": {
    "colab": {
      "provenance": [],
      "include_colab_link": true
    },
    "kernelspec": {
      "display_name": "Python 3 (ipykernel)",
      "language": "python",
      "name": "python3"
    },
    "language_info": {
      "codemirror_mode": {
        "name": "ipython",
        "version": 3
      },
      "file_extension": ".py",
      "mimetype": "text/x-python",
      "name": "python",
      "nbconvert_exporter": "python",
      "pygments_lexer": "ipython3",
      "version": "3.9.10"
    }
  },
  "nbformat": 4,
  "nbformat_minor": 0
}